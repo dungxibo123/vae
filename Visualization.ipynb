{
 "cells": [
  {
   "cell_type": "code",
   "execution_count": 1,
   "metadata": {
    "execution": {
     "iopub.execute_input": "2021-08-31T17:28:12.668068Z",
     "iopub.status.busy": "2021-08-31T17:28:12.667456Z",
     "iopub.status.idle": "2021-08-31T17:28:14.662531Z",
     "shell.execute_reply": "2021-08-31T17:28:14.661710Z",
     "shell.execute_reply.started": "2021-08-31T17:28:12.668012Z"
    }
   },
   "outputs": [],
   "source": [
    "import torch\n",
    "#from data import *\n",
    "import scipy\n",
    "from scipy.stats import norm\n",
    "import matplotlib.pyplot as plt\n",
    "from torch.optim import Adagrad\n",
    "from torch.optim import Adam\n",
    "from tqdm import tqdm\n",
    "#from vae import *\n",
    "#import argparse\n",
    "\n",
    "import numpy as np\n",
    "import torch.nn as nn\n",
    "import torch.nn.functional as F\n",
    "import matplotlib.gridspec as gridspec\n"
   ]
  },
  {
   "cell_type": "code",
   "execution_count": 12,
   "metadata": {
    "execution": {
     "iopub.execute_input": "2021-08-31T17:49:20.261433Z",
     "iopub.status.busy": "2021-08-31T17:49:20.261110Z",
     "iopub.status.idle": "2021-08-31T17:49:20.266046Z",
     "shell.execute_reply": "2021-08-31T17:49:20.264828Z",
     "shell.execute_reply.started": "2021-08-31T17:49:20.261404Z"
    }
   },
   "outputs": [],
   "source": [
    "HIDDEN=32\n",
    "BATCH_SIZE=64\n",
    "EPOCHS=50\n",
    "LR=2e-2\n",
    "LATENT=128\n",
    "\n",
    "\n",
    "#specify the device\n",
    "device=\"cuda:0\""
   ]
  },
  {
   "cell_type": "code",
   "execution_count": 13,
   "metadata": {
    "execution": {
     "iopub.execute_input": "2021-08-31T17:49:21.135630Z",
     "iopub.status.busy": "2021-08-31T17:49:21.135318Z",
     "iopub.status.idle": "2021-08-31T17:49:21.147801Z",
     "shell.execute_reply": "2021-08-31T17:49:21.146683Z",
     "shell.execute_reply.started": "2021-08-31T17:49:21.135602Z"
    }
   },
   "outputs": [],
   "source": [
    "class VAE(nn.Module):\n",
    "    def __init__(self, input_dim, hidden_dim, latent_dim=2):\n",
    "        \"\"\"\n",
    "            @param input_dim: input dimension of the data\n",
    "            @param hidden_dim: hidden dimension of the MLPs\n",
    "            @param latent_dim: output dimension of MLPs\n",
    "            @------------------@\n",
    "            @return: None\n",
    "        \"\"\"\n",
    "        super(VAE,self).__init__()\n",
    "        self.en = nn.Sequential(\n",
    "            nn.Linear(input_dim,hidden_dim),\n",
    "            nn.BatchNorm1d(hidden_dim),\n",
    "            nn.Tanh()\n",
    "        )\n",
    "        self.mu = nn.Linear(hidden_dim, latent_dim)\n",
    "        self.var = nn.Linear(hidden_dim,latent_dim)\n",
    "        \n",
    "        self.de = nn.Sequential(\n",
    "            nn.Linear(latent_dim,hidden_dim),\n",
    "            nn.BatchNorm1d(hidden_dim),\n",
    "            nn.Tanh()\n",
    "        )\n",
    "\n",
    "        self.final_layer=nn.Sequential(\n",
    "            nn.Linear(hidden_dim,input_dim),\n",
    "        )\n",
    "\n",
    "        \n",
    "          \n",
    "    def encode(self,x):\n",
    "        #x = torch.flatten(x)\n",
    "        res = self.en(x)\n",
    "        mu = self.mu(res)\n",
    "        log_var = self.var(res)\n",
    "        \n",
    "        return mu,log_var\n",
    "            \n",
    "    def decode(self,x):\n",
    "        res = self.de(x)\n",
    "        res = self.final_layer(res)\n",
    "        return res\n",
    "    def reparameterize(self,mu,log_var):\n",
    "        epsilon = torch.normal(mu,torch.exp(0.5 * log_var))\n",
    "        return mu + log_var * epsilon\n",
    "    def forward(self,x):\n",
    "        mu, log_var = self.encode(x)\n",
    "        norm = self.reparameterize(mu,log_var)\n",
    "        res = self.decode(norm)\n",
    "        return (res, x, mu,log_var)\n",
    "\n",
    "\n",
    "\n",
    "    def loss_fc(self,x,*args):\n",
    "        (res, x, mu, log_var) = self.forward(x)\n",
    "        recon_loss = F.mse_loss(x,res)\n",
    "        KL_divergence = torch.mean(-0.5 * torch.sum((1 + log_var - mu**2 - torch.exp(log_var)),dim=1), dim=0)\n",
    "        KL_divergence.required_grad = True\n",
    "        loss = recon_loss + KL_divergence\n",
    "        \n",
    "        return dict({'loss': loss, 'recon_loss': recon_loss, 'kl_loss': KL_divergence})\n",
    "\n",
    "\n",
    "\n",
    "    def generate(self,x):\n",
    "        return self.forward(x)[0]\n"
   ]
  },
  {
   "cell_type": "code",
   "execution_count": 14,
   "metadata": {
    "execution": {
     "iopub.execute_input": "2021-08-31T17:49:21.890366Z",
     "iopub.status.busy": "2021-08-31T17:49:21.890075Z",
     "iopub.status.idle": "2021-08-31T17:49:21.895967Z",
     "shell.execute_reply": "2021-08-31T17:49:21.895135Z",
     "shell.execute_reply.started": "2021-08-31T17:49:21.890340Z"
    }
   },
   "outputs": [],
   "source": [
    "from scipy.io import loadmat\n",
    "\n",
    "def get_minibatch(x,batch_size,device='cpu'):\n",
    "    indices = torch.randperm(x.shape[0])[:batch_size]\n",
    "    return x[indices].reshape(batch_size, -1).to(device)\n",
    "def get_data(path, nums=25000):\n",
    "    img_data = scipy.io.loadmat(path)[\"data\"].T / 255.\n",
    "    img_data = torch.Tensor(img_data)\n",
    "    img_data = get_minibatch(img_data,nums)\n",
    "    print(f\"Shape of a data point: {img_data.shape}\")\n",
    "    print(f\"Example data {img_data[0:1].shape}\")\n",
    "    return img_data\n",
    "\n"
   ]
  },
  {
   "cell_type": "code",
   "execution_count": 15,
   "metadata": {
    "execution": {
     "iopub.execute_input": "2021-08-31T17:49:22.552001Z",
     "iopub.status.busy": "2021-08-31T17:49:22.551656Z",
     "iopub.status.idle": "2021-08-31T17:49:22.938249Z",
     "shell.execute_reply": "2021-08-31T17:49:22.937359Z",
     "shell.execute_reply.started": "2021-08-31T17:49:22.551972Z"
    }
   },
   "outputs": [
    {
     "name": "stdout",
     "output_type": "stream",
     "text": [
      "Shape of a data point: torch.Size([25000, 784])\n",
      "Example data torch.Size([1, 784])\n"
     ]
    }
   ],
   "source": [
    "x = get_data(\"Data/mnist.mat\")"
   ]
  },
  {
   "cell_type": "code",
   "execution_count": 16,
   "metadata": {
    "execution": {
     "iopub.execute_input": "2021-08-31T17:49:24.647861Z",
     "iopub.status.busy": "2021-08-31T17:49:24.647501Z",
     "iopub.status.idle": "2021-08-31T17:49:24.655833Z",
     "shell.execute_reply": "2021-08-31T17:49:24.654640Z",
     "shell.execute_reply.started": "2021-08-31T17:49:24.647829Z"
    }
   },
   "outputs": [],
   "source": [
    "def AEVB(data, model, optimizer, input_dim, output_dim,epochs, batch_size):\n",
    "    full_loss, kld, recon = [],[],[]\n",
    "    for epc in range(epochs):\n",
    "        fl,kl,rec = 0,0,0\n",
    "        steps = x.shape[0] // batch_size\n",
    "        for _ in tqdm(range(steps)):\n",
    "            batch = get_minibatch(x,batch_size, device)\n",
    "            optimizer.zero_grad()\n",
    " \n",
    "            losses = model.loss_fc(batch)\n",
    "        \n",
    "            fl += losses[\"loss\"].item() / batch_size\n",
    "            kl += losses[\"kl_loss\"].item() / batch_size\n",
    "            rec += losses[\"recon_loss\"].item() / batch_size\n",
    "        \n",
    "            losses[\"loss\"].backward()\n",
    "\n",
    "            optimizer.step()\n",
    "        fl /= steps; kl /= steps; rec /= steps\n",
    "        full_loss.append(fl); kld.append(kl); recon.append(rec)\n",
    "        print(f\"Epoch {epc + 1}\\tFull loss: {full_loss[-1]}\\trecon loss: {recon[-1]}\\tkl_divergence: {kld[-1]}\")\n",
    "        \n",
    "    return model, full_loss, kld, recon \n",
    "\n",
    "\n",
    "\n"
   ]
  },
  {
   "cell_type": "code",
   "execution_count": 17,
   "metadata": {
    "execution": {
     "iopub.execute_input": "2021-08-31T17:49:25.824287Z",
     "iopub.status.busy": "2021-08-31T17:49:25.823945Z",
     "iopub.status.idle": "2021-08-31T17:49:25.833423Z",
     "shell.execute_reply": "2021-08-31T17:49:25.832602Z",
     "shell.execute_reply.started": "2021-08-31T17:49:25.824258Z"
    }
   },
   "outputs": [],
   "source": [
    "#Model \n",
    "model = VAE(x.shape[1],HIDDEN,LATENT).to(device)\n",
    "# Optimizer\n",
    "\n",
    "optimizer = Adam(model.parameters(), lr=LR)"
   ]
  },
  {
   "cell_type": "code",
   "execution_count": 18,
   "metadata": {
    "execution": {
     "iopub.execute_input": "2021-08-31T17:49:26.440876Z",
     "iopub.status.busy": "2021-08-31T17:49:26.440524Z"
    }
   },
   "outputs": [
    {
     "name": "stderr",
     "output_type": "stream",
     "text": [
      "100%|█████████████████████████████████████████████████████████████████████████████████████████████| 390/390 [00:01<00:00, 340.45it/s]\n"
     ]
    },
    {
     "name": "stdout",
     "output_type": "stream",
     "text": [
      "Epoch 1\tFull loss: 0.008110450708623736\trecon loss: 0.001155029963522863\tkl_divergence: 0.00695542074804857\n"
     ]
    },
    {
     "name": "stderr",
     "output_type": "stream",
     "text": [
      "100%|█████████████████████████████████████████████████████████████████████████████████████████████| 390/390 [00:01<00:00, 335.17it/s]\n"
     ]
    },
    {
     "name": "stdout",
     "output_type": "stream",
     "text": [
      "Epoch 2\tFull loss: 0.000910434682513229\trecon loss: 0.0007342624309389159\tkl_divergence: 0.00017617225157431302\n"
     ]
    },
    {
     "name": "stderr",
     "output_type": "stream",
     "text": [
      "100%|█████████████████████████████████████████████████████████████████████████████████████████████| 390/390 [00:01<00:00, 342.00it/s]\n"
     ]
    },
    {
     "name": "stdout",
     "output_type": "stream",
     "text": [
      "Epoch 3\tFull loss: 0.0007970228516616119\trecon loss: 0.0006594253932304967\tkl_divergence: 0.00013759745749830006\n"
     ]
    },
    {
     "name": "stderr",
     "output_type": "stream",
     "text": [
      "100%|█████████████████████████████████████████████████████████████████████████████████████████████| 390/390 [00:01<00:00, 331.04it/s]\n"
     ]
    },
    {
     "name": "stdout",
     "output_type": "stream",
     "text": [
      "Epoch 4\tFull loss: 0.0007406018137072142\trecon loss: 0.0006121564880371667\tkl_divergence: 0.0001284453251290147\n"
     ]
    },
    {
     "name": "stderr",
     "output_type": "stream",
     "text": [
      "100%|█████████████████████████████████████████████████████████████████████████████████████████████| 390/390 [00:01<00:00, 328.28it/s]\n"
     ]
    },
    {
     "name": "stdout",
     "output_type": "stream",
     "text": [
      "Epoch 5\tFull loss: 0.0007097577277678423\trecon loss: 0.0005811032066002297\tkl_divergence: 0.0001286545200295782\n"
     ]
    },
    {
     "name": "stderr",
     "output_type": "stream",
     "text": [
      "100%|█████████████████████████████████████████████████████████████████████████████████████████████| 390/390 [00:01<00:00, 319.74it/s]\n"
     ]
    },
    {
     "name": "stdout",
     "output_type": "stream",
     "text": [
      "Epoch 6\tFull loss: 0.0006833977251050947\trecon loss: 0.0005594867308480808\tkl_divergence: 0.00012391099360404322\n"
     ]
    },
    {
     "name": "stderr",
     "output_type": "stream",
     "text": [
      "100%|█████████████████████████████████████████████████████████████████████████████████████████████| 390/390 [00:01<00:00, 339.31it/s]\n"
     ]
    },
    {
     "name": "stdout",
     "output_type": "stream",
     "text": [
      "Epoch 7\tFull loss: 0.0006565421421188288\trecon loss: 0.0005378739301634666\tkl_divergence: 0.00011866821027629507\n"
     ]
    },
    {
     "name": "stderr",
     "output_type": "stream",
     "text": [
      "100%|█████████████████████████████████████████████████████████████████████████████████████████████| 390/390 [00:01<00:00, 328.49it/s]\n"
     ]
    },
    {
     "name": "stdout",
     "output_type": "stream",
     "text": [
      "Epoch 8\tFull loss: 0.0006359552267568711\trecon loss: 0.0005192199057021823\tkl_divergence: 0.00011673532114797033\n"
     ]
    },
    {
     "name": "stderr",
     "output_type": "stream",
     "text": [
      "100%|█████████████████████████████████████████████████████████████████████████████████████████████| 390/390 [00:01<00:00, 322.49it/s]\n"
     ]
    },
    {
     "name": "stdout",
     "output_type": "stream",
     "text": [
      "Epoch 9\tFull loss: 0.0006118116733164359\trecon loss: 0.0005029306888060931\tkl_divergence: 0.00010888098363349668\n"
     ]
    },
    {
     "name": "stderr",
     "output_type": "stream",
     "text": [
      "100%|█████████████████████████████████████████████████████████████████████████████████████████████| 390/390 [00:01<00:00, 309.41it/s]\n"
     ]
    },
    {
     "name": "stdout",
     "output_type": "stream",
     "text": [
      "Epoch 10\tFull loss: 0.0005872241979560409\trecon loss: 0.00048551263014535203\tkl_divergence: 0.00010171156801590816\n"
     ]
    },
    {
     "name": "stderr",
     "output_type": "stream",
     "text": [
      "100%|█████████████████████████████████████████████████████████████████████████████████████████████| 390/390 [00:01<00:00, 331.00it/s]\n"
     ]
    },
    {
     "name": "stdout",
     "output_type": "stream",
     "text": [
      "Epoch 11\tFull loss: 0.0005633907656794271\trecon loss: 0.0004688082833756478\tkl_divergence: 9.458248206124736e-05\n"
     ]
    },
    {
     "name": "stderr",
     "output_type": "stream",
     "text": [
      "100%|█████████████████████████████████████████████████████████████████████████████████████████████| 390/390 [00:01<00:00, 337.55it/s]\n"
     ]
    },
    {
     "name": "stdout",
     "output_type": "stream",
     "text": [
      "Epoch 12\tFull loss: 0.0005374396572826812\trecon loss: 0.0004513092800968876\tkl_divergence: 8.613037754026337e-05\n"
     ]
    },
    {
     "name": "stderr",
     "output_type": "stream",
     "text": [
      "100%|█████████████████████████████████████████████████████████████████████████████████████████████| 390/390 [00:01<00:00, 323.31it/s]\n"
     ]
    },
    {
     "name": "stdout",
     "output_type": "stream",
     "text": [
      "Epoch 13\tFull loss: 0.0005221813895518725\trecon loss: 0.00043973482373612337\tkl_divergence: 8.244656669259525e-05\n"
     ]
    },
    {
     "name": "stderr",
     "output_type": "stream",
     "text": [
      "100%|█████████████████████████████████████████████████████████████████████████████████████████████| 390/390 [00:01<00:00, 338.40it/s]\n"
     ]
    },
    {
     "name": "stdout",
     "output_type": "stream",
     "text": [
      "Epoch 14\tFull loss: 0.0004986061004157632\trecon loss: 0.0004249786693178929\tkl_divergence: 7.362743173218451e-05\n"
     ]
    },
    {
     "name": "stderr",
     "output_type": "stream",
     "text": [
      "100%|█████████████████████████████████████████████████████████████████████████████████████████████| 390/390 [00:01<00:00, 336.50it/s]\n"
     ]
    },
    {
     "name": "stdout",
     "output_type": "stream",
     "text": [
      "Epoch 15\tFull loss: 0.00047724996603882083\trecon loss: 0.0004105642975236361\tkl_divergence: 6.668566875771667e-05\n"
     ]
    },
    {
     "name": "stderr",
     "output_type": "stream",
     "text": [
      "100%|█████████████████████████████████████████████████████████████████████████████████████████████| 390/390 [00:01<00:00, 332.03it/s]\n"
     ]
    },
    {
     "name": "stdout",
     "output_type": "stream",
     "text": [
      "Epoch 16\tFull loss: 0.0004655558370405999\trecon loss: 0.0004042166242680441\tkl_divergence: 6.133921284718105e-05\n"
     ]
    },
    {
     "name": "stderr",
     "output_type": "stream",
     "text": [
      "100%|█████████████████████████████████████████████████████████████████████████████████████████████| 390/390 [00:01<00:00, 342.89it/s]\n"
     ]
    },
    {
     "name": "stdout",
     "output_type": "stream",
     "text": [
      "Epoch 17\tFull loss: 0.00043852299590630886\trecon loss: 0.0003858201959445022\tkl_divergence: 5.270280059612094e-05\n"
     ]
    },
    {
     "name": "stderr",
     "output_type": "stream",
     "text": [
      "100%|█████████████████████████████████████████████████████████████████████████████████████████████| 390/390 [00:01<00:00, 313.02it/s]\n"
     ]
    },
    {
     "name": "stdout",
     "output_type": "stream",
     "text": [
      "Epoch 18\tFull loss: 0.0004225175011341866\trecon loss: 0.0003755603308747642\tkl_divergence: 4.695717052061063e-05\n"
     ]
    },
    {
     "name": "stderr",
     "output_type": "stream",
     "text": [
      "100%|█████████████████████████████████████████████████████████████████████████████████████████████| 390/390 [00:01<00:00, 332.64it/s]\n"
     ]
    },
    {
     "name": "stdout",
     "output_type": "stream",
     "text": [
      "Epoch 19\tFull loss: 0.00041053128975013703\trecon loss: 0.00036846460410369896\tkl_divergence: 4.2066685124061616e-05\n"
     ]
    },
    {
     "name": "stderr",
     "output_type": "stream",
     "text": [
      "100%|█████████████████████████████████████████████████████████████████████████████████████████████| 390/390 [00:01<00:00, 327.33it/s]\n"
     ]
    },
    {
     "name": "stdout",
     "output_type": "stream",
     "text": [
      "Epoch 20\tFull loss: 0.0003927838377421722\trecon loss: 0.00035760854064928704\tkl_divergence: 3.5175297596605305e-05\n"
     ]
    },
    {
     "name": "stderr",
     "output_type": "stream",
     "text": [
      "100%|█████████████████████████████████████████████████████████████████████████████████████████████| 390/390 [00:01<00:00, 331.64it/s]\n"
     ]
    },
    {
     "name": "stdout",
     "output_type": "stream",
     "text": [
      "Epoch 21\tFull loss: 0.0003768793675147045\trecon loss: 0.00034779812357066056\tkl_divergence: 2.90812437574809e-05\n"
     ]
    },
    {
     "name": "stderr",
     "output_type": "stream",
     "text": [
      "100%|█████████████████████████████████████████████████████████████████████████████████████████████| 390/390 [00:01<00:00, 331.66it/s]\n"
     ]
    },
    {
     "name": "stdout",
     "output_type": "stream",
     "text": [
      "Epoch 22\tFull loss: 0.00036610665787847185\trecon loss: 0.0003414914423140148\tkl_divergence: 2.461521603086462e-05\n"
     ]
    },
    {
     "name": "stderr",
     "output_type": "stream",
     "text": [
      "100%|█████████████████████████████████████████████████████████████████████████████████████████████| 390/390 [00:01<00:00, 337.25it/s]\n"
     ]
    },
    {
     "name": "stdout",
     "output_type": "stream",
     "text": [
      "Epoch 23\tFull loss: 0.000349588509878884\trecon loss: 0.0003304184367432474\tkl_divergence: 1.9170073340855874e-05\n"
     ]
    },
    {
     "name": "stderr",
     "output_type": "stream",
     "text": [
      "100%|█████████████████████████████████████████████████████████████████████████████████████████████| 390/390 [00:01<00:00, 329.26it/s]\n"
     ]
    },
    {
     "name": "stdout",
     "output_type": "stream",
     "text": [
      "Epoch 24\tFull loss: 0.00033966316565429457\trecon loss: 0.00032452899285066776\tkl_divergence: 1.5134173326003247e-05\n"
     ]
    },
    {
     "name": "stderr",
     "output_type": "stream",
     "text": [
      "100%|█████████████████████████████████████████████████████████████████████████████████████████████| 390/390 [00:01<00:00, 334.59it/s]\n"
     ]
    },
    {
     "name": "stdout",
     "output_type": "stream",
     "text": [
      "Epoch 25\tFull loss: 0.0003311979285148808\trecon loss: 0.0003188054407916915\tkl_divergence: 1.2392487014249826e-05\n"
     ]
    },
    {
     "name": "stderr",
     "output_type": "stream",
     "text": [
      "100%|█████████████████████████████████████████████████████████████████████████████████████████████| 390/390 [00:01<00:00, 333.21it/s]\n"
     ]
    },
    {
     "name": "stdout",
     "output_type": "stream",
     "text": [
      "Epoch 26\tFull loss: 0.0003229572158605338\trecon loss: 0.00031331560092393116\tkl_divergence: 9.641615048540421e-06\n"
     ]
    },
    {
     "name": "stderr",
     "output_type": "stream",
     "text": [
      "100%|█████████████████████████████████████████████████████████████████████████████████████████████| 390/390 [00:01<00:00, 338.53it/s]\n"
     ]
    },
    {
     "name": "stdout",
     "output_type": "stream",
     "text": [
      "Epoch 27\tFull loss: 0.0003184177854564041\trecon loss: 0.00031020511120844347\tkl_divergence: 8.212674136022823e-06\n"
     ]
    },
    {
     "name": "stderr",
     "output_type": "stream",
     "text": [
      "100%|█████████████████████████████████████████████████████████████████████████████████████████████| 390/390 [00:01<00:00, 334.91it/s]\n"
     ]
    },
    {
     "name": "stdout",
     "output_type": "stream",
     "text": [
      "Epoch 28\tFull loss: 0.0003156974247525422\trecon loss: 0.00030819640259067407\tkl_divergence: 7.501022684244582e-06\n"
     ]
    },
    {
     "name": "stderr",
     "output_type": "stream",
     "text": [
      "100%|█████████████████████████████████████████████████████████████████████████████████████████████| 390/390 [00:01<00:00, 251.37it/s]\n"
     ]
    },
    {
     "name": "stdout",
     "output_type": "stream",
     "text": [
      "Epoch 29\tFull loss: 0.00031237582450744527\trecon loss: 0.0003055685341585045\tkl_divergence: 6.807290479534855e-06\n"
     ]
    },
    {
     "name": "stderr",
     "output_type": "stream",
     "text": [
      "100%|█████████████████████████████████████████████████████████████████████████████████████████████| 390/390 [00:01<00:00, 334.13it/s]\n"
     ]
    },
    {
     "name": "stdout",
     "output_type": "stream",
     "text": [
      "Epoch 30\tFull loss: 0.0003087119068741464\trecon loss: 0.0003025220900338191\tkl_divergence: 6.189816579139099e-06\n"
     ]
    },
    {
     "name": "stderr",
     "output_type": "stream",
     "text": [
      "100%|█████████████████████████████████████████████████████████████████████████████████████████████| 390/390 [00:01<00:00, 333.26it/s]\n"
     ]
    },
    {
     "name": "stdout",
     "output_type": "stream",
     "text": [
      "Epoch 31\tFull loss: 0.00030693824698503776\trecon loss: 0.00030098333693622876\tkl_divergence: 5.954910347309823e-06\n"
     ]
    },
    {
     "name": "stderr",
     "output_type": "stream",
     "text": [
      "100%|█████████████████████████████████████████████████████████████████████████████████████████████| 390/390 [00:01<00:00, 336.64it/s]\n"
     ]
    },
    {
     "name": "stdout",
     "output_type": "stream",
     "text": [
      "Epoch 32\tFull loss: 0.00030652986084206554\trecon loss: 0.00030087974468747585\tkl_divergence: 5.650116117277111e-06\n"
     ]
    },
    {
     "name": "stderr",
     "output_type": "stream",
     "text": [
      "100%|█████████████████████████████████████████████████████████████████████████████████████████████| 390/390 [00:01<00:00, 334.18it/s]\n"
     ]
    },
    {
     "name": "stdout",
     "output_type": "stream",
     "text": [
      "Epoch 33\tFull loss: 0.0003043959221731012\trecon loss: 0.00029918431335737783\tkl_divergence: 5.211608703785505e-06\n"
     ]
    },
    {
     "name": "stderr",
     "output_type": "stream",
     "text": [
      "100%|█████████████████████████████████████████████████████████████████████████████████████████████| 390/390 [00:01<00:00, 258.23it/s]\n"
     ]
    },
    {
     "name": "stdout",
     "output_type": "stream",
     "text": [
      "Epoch 34\tFull loss: 0.0003035949121486061\trecon loss: 0.0002987583758136353\tkl_divergence: 4.836536596159044e-06\n"
     ]
    },
    {
     "name": "stderr",
     "output_type": "stream",
     "text": [
      "100%|█████████████████████████████████████████████████████████████████████████████████████████████| 390/390 [00:01<00:00, 328.63it/s]\n"
     ]
    },
    {
     "name": "stdout",
     "output_type": "stream",
     "text": [
      "Epoch 35\tFull loss: 0.00030174312675789665\trecon loss: 0.00029709174399240277\tkl_divergence: 4.651383119963635e-06\n"
     ]
    },
    {
     "name": "stderr",
     "output_type": "stream",
     "text": [
      "100%|█████████████████████████████████████████████████████████████████████████████████████████████| 390/390 [00:01<00:00, 337.84it/s]\n"
     ]
    },
    {
     "name": "stdout",
     "output_type": "stream",
     "text": [
      "Epoch 36\tFull loss: 0.0003005898000153068\trecon loss: 0.0002962610426132018\tkl_divergence: 4.328757831199954e-06\n"
     ]
    },
    {
     "name": "stderr",
     "output_type": "stream",
     "text": [
      "100%|█████████████████████████████████████████████████████████████████████████████████████████████| 390/390 [00:01<00:00, 343.82it/s]\n"
     ]
    },
    {
     "name": "stdout",
     "output_type": "stream",
     "text": [
      "Epoch 37\tFull loss: 0.0003007058061671276\trecon loss: 0.000296579980222771\tkl_divergence: 4.125825795106208e-06\n"
     ]
    },
    {
     "name": "stderr",
     "output_type": "stream",
     "text": [
      "100%|█████████████████████████████████████████████████████████████████████████████████████████████| 390/390 [00:01<00:00, 318.41it/s]\n"
     ]
    },
    {
     "name": "stdout",
     "output_type": "stream",
     "text": [
      "Epoch 38\tFull loss: 0.00030083290990800236\trecon loss: 0.0002969710459299863\tkl_divergence: 3.86186420189169e-06\n"
     ]
    },
    {
     "name": "stderr",
     "output_type": "stream",
     "text": [
      "100%|█████████████████████████████████████████████████████████████████████████████████████████████| 390/390 [00:01<00:00, 335.92it/s]\n"
     ]
    },
    {
     "name": "stdout",
     "output_type": "stream",
     "text": [
      "Epoch 39\tFull loss: 0.000299294473295912\trecon loss: 0.0002955852300286866\tkl_divergence: 3.709242353066563e-06\n"
     ]
    },
    {
     "name": "stderr",
     "output_type": "stream",
     "text": [
      "100%|█████████████████████████████████████████████████████████████████████████████████████████████| 390/390 [00:01<00:00, 338.10it/s]\n"
     ]
    },
    {
     "name": "stdout",
     "output_type": "stream",
     "text": [
      "Epoch 40\tFull loss: 0.00029716958890322785\trecon loss: 0.00029363318238980493\tkl_divergence: 3.5364068678926484e-06\n"
     ]
    },
    {
     "name": "stderr",
     "output_type": "stream",
     "text": [
      "100%|█████████████████████████████████████████████████████████████████████████████████████████████| 390/390 [00:01<00:00, 339.64it/s]\n"
     ]
    },
    {
     "name": "stdout",
     "output_type": "stream",
     "text": [
      "Epoch 41\tFull loss: 0.0002975055703875394\trecon loss: 0.0002941219336114442\tkl_divergence: 3.3836365149069866e-06\n"
     ]
    },
    {
     "name": "stderr",
     "output_type": "stream",
     "text": [
      "100%|█████████████████████████████████████████████████████████████████████████████████████████████| 390/390 [00:01<00:00, 327.65it/s]\n"
     ]
    },
    {
     "name": "stdout",
     "output_type": "stream",
     "text": [
      "Epoch 42\tFull loss: 0.0002976143236409347\trecon loss: 0.0002942918953545487\tkl_divergence: 3.3224286595120645e-06\n"
     ]
    },
    {
     "name": "stderr",
     "output_type": "stream",
     "text": [
      "100%|█████████████████████████████████████████████████████████████████████████████████████████████| 390/390 [00:01<00:00, 335.49it/s]\n"
     ]
    },
    {
     "name": "stdout",
     "output_type": "stream",
     "text": [
      "Epoch 43\tFull loss: 0.00029592196612308425\trecon loss: 0.0002926627132229698\tkl_divergence: 3.259253441147172e-06\n"
     ]
    },
    {
     "name": "stderr",
     "output_type": "stream",
     "text": [
      "100%|█████████████████████████████████████████████████████████████████████████████████████████████| 390/390 [00:01<00:00, 331.48it/s]\n"
     ]
    },
    {
     "name": "stdout",
     "output_type": "stream",
     "text": [
      "Epoch 44\tFull loss: 0.0002970113578694276\trecon loss: 0.00029379366165719543\tkl_divergence: 3.2176966599833506e-06\n"
     ]
    },
    {
     "name": "stderr",
     "output_type": "stream",
     "text": [
      "100%|█████████████████████████████████████████████████████████████████████████████████████████████| 390/390 [00:01<00:00, 319.75it/s]\n"
     ]
    },
    {
     "name": "stdout",
     "output_type": "stream",
     "text": [
      "Epoch 45\tFull loss: 0.00029625383919128814\trecon loss: 0.0002931073721414671\tkl_divergence: 3.1464675908538107e-06\n"
     ]
    },
    {
     "name": "stderr",
     "output_type": "stream",
     "text": [
      "100%|█████████████████████████████████████████████████████████████████████████████████████████████| 390/390 [00:01<00:00, 335.65it/s]\n"
     ]
    },
    {
     "name": "stdout",
     "output_type": "stream",
     "text": [
      "Epoch 46\tFull loss: 0.00029665270815782535\trecon loss: 0.00029352975946564516\tkl_divergence: 3.122948673523915e-06\n"
     ]
    },
    {
     "name": "stderr",
     "output_type": "stream",
     "text": [
      "100%|█████████████████████████████████████████████████████████████████████████████████████████████| 390/390 [00:01<00:00, 335.56it/s]\n"
     ]
    },
    {
     "name": "stdout",
     "output_type": "stream",
     "text": [
      "Epoch 47\tFull loss: 0.0002938383046197347\trecon loss: 0.00029077482535145606\tkl_divergence: 3.063479324247545e-06\n"
     ]
    },
    {
     "name": "stderr",
     "output_type": "stream",
     "text": [
      "100%|█████████████████████████████████████████████████████████████████████████████████████████████| 390/390 [00:01<00:00, 272.71it/s]\n"
     ]
    },
    {
     "name": "stdout",
     "output_type": "stream",
     "text": [
      "Epoch 48\tFull loss: 0.00029545414361517683\trecon loss: 0.0002923660425063318\tkl_divergence: 3.0881009782509255e-06\n"
     ]
    },
    {
     "name": "stderr",
     "output_type": "stream",
     "text": [
      "100%|█████████████████████████████████████████████████████████████████████████████████████████████| 390/390 [00:01<00:00, 326.41it/s]\n"
     ]
    },
    {
     "name": "stdout",
     "output_type": "stream",
     "text": [
      "Epoch 49\tFull loss: 0.0002945062440957349\trecon loss: 0.0002914365210856956\tkl_divergence: 3.069723383165323e-06\n"
     ]
    },
    {
     "name": "stderr",
     "output_type": "stream",
     "text": [
      "100%|█████████████████████████████████████████████████████████████████████████████████████████████| 390/390 [00:01<00:00, 338.66it/s]"
     ]
    },
    {
     "name": "stdout",
     "output_type": "stream",
     "text": [
      "Epoch 50\tFull loss: 0.00029418685015302913\trecon loss: 0.00029119936785159203\tkl_divergence: 2.987481760404383e-06\n"
     ]
    },
    {
     "name": "stderr",
     "output_type": "stream",
     "text": [
      "\n"
     ]
    }
   ],
   "source": [
    "(model, full_loss, kld, recon) = AEVB(data=x,\n",
    "                                      model=model,\n",
    "                                      optimizer=optimizer,\n",
    "                                      input_dim=x.shape[1],\n",
    "                                      output_dim=x.shape[1],\n",
    "                                      batch_size=BATCH_SIZE,\n",
    "                                      epochs=EPOCHS)"
   ]
  },
  {
   "cell_type": "code",
   "execution_count": 19,
   "metadata": {},
   "outputs": [
    {
     "data": {
      "text/plain": [
       "[<matplotlib.lines.Line2D at 0x7f5512fce8b0>]"
      ]
     },
     "execution_count": 19,
     "metadata": {},
     "output_type": "execute_result"
    },
    {
     "data": {
      "image/png": "[encoded data removed]",
      "text/plain": [
       "<Figure size 432x288 with 1 Axes>"
      ]
     },
     "metadata": {
      "needs_background": "light"
     },
     "output_type": "display_data"
    }
   ],
   "source": [
    "%matplotlib inline\n",
    "\n",
    "plt.plot([i for i in range(len(full_loss))], full_loss)"
   ]
  },
  {
   "cell_type": "code",
   "execution_count": 20,
   "metadata": {},
   "outputs": [],
   "source": [
    "def visualization(x):\n",
    "    kx = get_minibatch(x,25,device)\n",
    "    gen = model.generate(kx).cpu().detach().numpy()\n",
    "    kx = kx.cpu().detach().numpy()\n",
    "    fig, ax = plt.subplots(5,5)\n",
    "    for i in range(1,6):\n",
    "        for j in range(1,6):\n",
    "            ax[i-1,j-1].axis(\"off\")\n",
    "            tmp = kx[i*j - 1]\n",
    "            tmp = tmp.reshape(28,28)\n",
    "            ax[i - 1,j - 1].imshow(tmp,cmap=\"gray\")\n",
    "    fig2, ax2 = plt.subplots(5,5)\n",
    "    for i in range(1,6):\n",
    "        for j in range(1,6):\n",
    "            ax2[i-1,j-1].axis(\"off\")\n",
    "            tmp = gen[i*j - 1]\n",
    "            tmp = tmp.reshape(28,28)\n",
    "            ax2[i - 1,j - 1].imshow(tmp,cmap=\"gray\")\n",
    "    fig.show()\n",
    "    fig2.show()"
   ]
  },
  {
   "cell_type": "code",
   "execution_count": 21,
   "metadata": {},
   "outputs": [
    {
     "name": "stderr",
     "output_type": "stream",
     "text": [
      "/tmp/ipykernel_2161/3618367855.py:19: UserWarning: Matplotlib is currently using module://matplotlib_inline.backend_inline, which is a non-GUI backend, so cannot show the figure.\n",
      "  fig.show()\n",
      "/tmp/ipykernel_2161/3618367855.py:20: UserWarning: Matplotlib is currently using module://matplotlib_inline.backend_inline, which is a non-GUI backend, so cannot show the figure.\n",
      "  fig2.show()\n"
     ]
    },
    {
     "data": {
      "image/png": "[encoded data removed]",
      "text/plain": [
       "<Figure size 432x288 with 25 Axes>"
      ]
     },
     "metadata": {
      "needs_background": "light"
     },
     "output_type": "display_data"
    },
    {
     "data": {
      "image/png": "[encoded data removed]",
      "text/plain": [
       "<Figure size 432x288 with 25 Axes>"
      ]
     },
     "metadata": {
      "needs_background": "light"
     },
     "output_type": "display_data"
    }
   ],
   "source": [
    "visualization(x)"
   ]
  },
  {
   "cell_type": "code",
   "execution_count": null,
   "metadata": {},
   "outputs": [],
   "source": []
  },
  {
   "cell_type": "code",
   "execution_count": null,
   "metadata": {},
   "outputs": [],
   "source": []
  },
  {
   "cell_type": "code",
   "execution_count": null,
   "metadata": {},
   "outputs": [],
   "source": []
  }
 ],
 "metadata": {
  "kernelspec": {
   "display_name": "Python 3 (ipykernel)",
   "language": "python",
   "name": "python3"
  },
  "language_info": {
   "codemirror_mode": {
    "name": "ipython",
    "version": 3
   },
   "file_extension": ".py",
   "mimetype": "text/x-python",
   "name": "python",
   "nbconvert_exporter": "python",
   "pygments_lexer": "ipython3",
   "version": "3.9.5"
  }
 },
 "nbformat": 4,
 "nbformat_minor": 4
}
