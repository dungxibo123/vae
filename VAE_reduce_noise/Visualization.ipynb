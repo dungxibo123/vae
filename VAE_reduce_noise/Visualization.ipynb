{
 "cells": [
  {
   "cell_type": "code",
   "execution_count": 1,
   "metadata": {
    "execution": {
     "iopub.execute_input": "2021-08-31T17:28:12.668068Z",
     "iopub.status.busy": "2021-08-31T17:28:12.667456Z",
     "iopub.status.idle": "2021-08-31T17:28:14.662531Z",
     "shell.execute_reply": "2021-08-31T17:28:14.661710Z",
     "shell.execute_reply.started": "2021-08-31T17:28:12.668012Z"
    }
   },
   "outputs": [],
   "source": [
    "import torch\n",
    "#from data import *\n",
    "import scipy\n",
    "from scipy.stats import norm\n",
    "import matplotlib.pyplot as plt\n",
    "from torch.optim import Adagrad\n",
    "from torch.optim import Adam\n",
    "from tqdm import tqdm\n",
    "#from vae import *\n",
    "#import argparse\n",
    "\n",
    "import numpy as np\n",
    "import torch.nn as nn\n",
    "import torch.nn.functional as F\n",
    "import matplotlib.gridspec as gridspec\n"
   ]
  },
  {
   "cell_type": "code",
   "execution_count": 2,
   "metadata": {
    "execution": {
     "iopub.execute_input": "2021-08-31T17:49:20.261433Z",
     "iopub.status.busy": "2021-08-31T17:49:20.261110Z",
     "iopub.status.idle": "2021-08-31T17:49:20.266046Z",
     "shell.execute_reply": "2021-08-31T17:49:20.264828Z",
     "shell.execute_reply.started": "2021-08-31T17:49:20.261404Z"
    }
   },
   "outputs": [],
   "source": [
    "HIDDEN=64\n",
    "BATCH_SIZE=32\n",
    "EPOCHS=50\n",
    "LR=2e-3\n",
    "LATENT=64\n",
    "\n",
    "\n",
    "#specify the device\n",
    "device=\"cuda:0\""
   ]
  },
  {
   "cell_type": "code",
   "execution_count": 3,
   "metadata": {
    "execution": {
     "iopub.execute_input": "2021-08-31T17:49:21.135630Z",
     "iopub.status.busy": "2021-08-31T17:49:21.135318Z",
     "iopub.status.idle": "2021-08-31T17:49:21.147801Z",
     "shell.execute_reply": "2021-08-31T17:49:21.146683Z",
     "shell.execute_reply.started": "2021-08-31T17:49:21.135602Z"
    }
   },
   "outputs": [],
   "source": [
    "class VAE(nn.Module):\n",
    "    def __init__(self, input_dim, hidden_dim, latent_dim=2):\n",
    "        \"\"\"\n",
    "            @param input_dim: input dimension of the data\n",
    "            @param hidden_dim: hidden dimension of the MLPs\n",
    "            @param latent_dim: output dimension of MLPs\n",
    "            @------------------@\n",
    "            @return: None\n",
    "        \"\"\"\n",
    "        super(VAE,self).__init__()\n",
    "        self.en = nn.Sequential(\n",
    "            nn.Linear(input_dim,hidden_dim),\n",
    "            nn.BatchNorm1d(hidden_dim),\n",
    "            nn.LeakyReLU()\n",
    "        )\n",
    "        self.mu = nn.Linear(hidden_dim, latent_dim)\n",
    "        self.var = nn.Linear(hidden_dim,latent_dim)\n",
    "        \n",
    "        self.de = nn.Sequential(\n",
    "            nn.Linear(latent_dim,hidden_dim),\n",
    "            nn.BatchNorm1d(hidden_dim),\n",
    "            nn.LeakyReLU()\n",
    "        )\n",
    "\n",
    "        self.final_layer=nn.Sequential(\n",
    "            nn.Linear(hidden_dim,input_dim),\n",
    "        )\n",
    "\n",
    "        \n",
    "          \n",
    "    def encode(self,x):\n",
    "        #x = torch.flatten(x)\n",
    "        res = self.en(x)\n",
    "        mu = self.mu(res)\n",
    "        log_var = self.var(res)\n",
    "        \n",
    "        return mu,log_var\n",
    "            \n",
    "    def decode(self,x):\n",
    "        res = self.de(x)\n",
    "        res = self.final_layer(res)\n",
    "        return res\n",
    "    def reparameterize(self,mu,log_var):\n",
    "        epsilon = torch.normal(mu,torch.exp(0.5 * log_var))\n",
    "        return mu + log_var * epsilon\n",
    "    def forward(self,x):\n",
    "        mu, log_var = self.encode(x)\n",
    "        norm = self.reparameterize(mu,log_var)\n",
    "        res = self.decode(norm)\n",
    "        return (res, x, mu,log_var)\n",
    "\n",
    "\n",
    "\n",
    "    def loss_fc(self,x,label,*args):\n",
    "        (res, x, mu, log_var) = self.forward(x)\n",
    "        recon_loss = F.mse_loss(res,label)\n",
    "        KL_divergence = torch.mean(-0.5 * torch.sum((1 + log_var - mu**2 - torch.exp(log_var)),dim=1), dim=0)\n",
    "        KL_divergence.required_grad = True\n",
    "        loss = recon_loss + KL_divergence\n",
    "        \n",
    "        return dict({'loss': loss, 'recon_loss': recon_loss, 'kl_loss': KL_divergence})\n",
    "\n",
    "\n",
    "\n",
    "    def generate(self,x):\n",
    "        return self.forward(x)[0]\n"
   ]
  },
  {
   "cell_type": "code",
   "execution_count": 4,
   "metadata": {
    "execution": {
     "iopub.execute_input": "2021-08-31T17:49:21.890366Z",
     "iopub.status.busy": "2021-08-31T17:49:21.890075Z",
     "iopub.status.idle": "2021-08-31T17:49:21.895967Z",
     "shell.execute_reply": "2021-08-31T17:49:21.895135Z",
     "shell.execute_reply.started": "2021-08-31T17:49:21.890340Z"
    }
   },
   "outputs": [],
   "source": [
    "from scipy.io import loadmat\n",
    "\n",
    "def get_minibatch(x,batch_size,device='cpu'):\n",
    "    indices = torch.randperm(x.shape[0])[:batch_size]\n",
    "    return x[indices].reshape(batch_size, -1).to(device)\n",
    "\n",
    "# This is get_data fc for MNIST handwritten, below is for MNIST Fashion\n",
    "\"\"\"\n",
    "def get_data(path,nums=25000,device='cpu'):\n",
    "    img_data = scipy.io.loadmat(path)[\"data\"].T / 255.\n",
    "    img_data = torch.Tensor(img_data)\n",
    "    img_data = get_minibatch(img_data,nums)\n",
    "    img_data = img_data.to(device)\n",
    "    distri = torch.zeros(img_data.shape)\n",
    "    \n",
    "    print(f\"Shape of a data point: {img_data.shape}\")\n",
    "    print(f\"Example data {img_data[0:1].shape}\")\n",
    "    break_point = int(0.8*nums)\n",
    "    return img_data[:break_point], img_data[:break_point]\n",
    "\"\"\"\n",
    "def get_data(path, nums=25000, device='cpu'):\n",
    "    data = np.genfromtxt(path, delimiter=',')\n",
    "    data = data[1:,1:] / 255.0\n",
    "    data = torch.Tensor(data).to(device)\n",
    "    data = get_minibatch(data,nums)\n",
    "    return data\n",
    "\n",
    "def add_noise(data, std=1/10.,device='cpu'):\n",
    "    distri = torch.normal(torch.zeros(data.shape),torch.ones(data.shape) * std).to(device)\n",
    "    #print(data.device)\n",
    "    return data.to(device) + distri\n",
    "    #print(distri)"
   ]
  },
  {
   "cell_type": "code",
   "execution_count": 5,
   "metadata": {},
   "outputs": [
    {
     "data": {
      "text/plain": [
       "<matplotlib.image.AxesImage at 0x7f20821618b0>"
      ]
     },
     "execution_count": 5,
     "metadata": {},
     "output_type": "execute_result"
    },
    {
     "data": {
      "image/png": "[encoded data removed]",
      "text/plain": [
       "<Figure size 432x288 with 1 Axes>"
      ]
     },
     "metadata": {
      "needs_background": "light"
     },
     "output_type": "display_data"
    }
   ],
   "source": [
    "x = get_data(\"../Data/fashion.csv\", nums=60000)\n",
    "\n",
    "\n",
    "eval_data = get_data(\"../Data/fashion_eval.csv\", nums=10000).to(device)\n",
    "eval_data_full = (eval_data, add_noise(eval_data,std=1/4.,device=device))\n",
    "\n",
    "\n",
    "t = add_noise(x,std=1/4.,device=device).cpu().detach().numpy()\n",
    "plt.imshow(t[0].reshape(28,28),cmap=\"gray\")"
   ]
  },
  {
   "cell_type": "code",
   "execution_count": 6,
   "metadata": {
    "execution": {
     "iopub.execute_input": "2021-08-31T17:49:22.552001Z",
     "iopub.status.busy": "2021-08-31T17:49:22.551656Z",
     "iopub.status.idle": "2021-08-31T17:49:22.938249Z",
     "shell.execute_reply": "2021-08-31T17:49:22.937359Z",
     "shell.execute_reply.started": "2021-08-31T17:49:22.551972Z"
    }
   },
   "outputs": [
    {
     "name": "stdout",
     "output_type": "stream",
     "text": [
      "cuda:0\n",
      "cuda:0\n"
     ]
    }
   ],
   "source": [
    "for k in eval_data_full: print(k.device)"
   ]
  },
  {
   "cell_type": "code",
   "execution_count": null,
   "metadata": {},
   "outputs": [],
   "source": []
  },
  {
   "cell_type": "code",
   "execution_count": 23,
   "metadata": {
    "execution": {
     "iopub.execute_input": "2021-08-31T17:49:24.647861Z",
     "iopub.status.busy": "2021-08-31T17:49:24.647501Z",
     "iopub.status.idle": "2021-08-31T17:49:24.655833Z",
     "shell.execute_reply": "2021-08-31T17:49:24.654640Z",
     "shell.execute_reply.started": "2021-08-31T17:49:24.647829Z"
    }
   },
   "outputs": [],
   "source": [
    "def AEVB(data, eval_data, model, optimizer, input_dim, output_dim,epochs, batch_size):\n",
    "    full_loss, kld, recon = [],[],[]\n",
    "    efull_loss, ekld, erecon = [],[],[]\n",
    "    for epc in range(epochs):\n",
    "        fl,kl,rec = 0,0,0\n",
    "        efl,ekl,erec = 0,0,0\n",
    "        steps = x.shape[0] // batch_size\n",
    "        for _ in tqdm(range(steps)):\n",
    "            batch = get_minibatch(x,batch_size,device)\n",
    "            batch_noise = add_noise(batch, std=1/45., device=device)\n",
    "            optimizer.zero_grad()\n",
    " \n",
    "            losses = model.loss_fc(batch_noise,batch)\n",
    "            \n",
    "            fl += losses[\"loss\"].item() / batch_size\n",
    "            kl += losses[\"kl_loss\"].item() / batch_size\n",
    "            rec += losses[\"recon_loss\"].item() / batch_size\n",
    "            losses[\"loss\"].backward()\n",
    "            optimizer.step()\n",
    "            #for k in eval_data_full: print(k.device)\n",
    "            elosses = model.loss_fc(eval_data_full[1],eval_data_full[0])  \n",
    "            efl += elosses[\"loss\"].item() / batch_size\n",
    "            ekl += elosses[\"kl_loss\"].item() / batch_size\n",
    "            erec += elosses[\"recon_loss\"].item() / batch_size\n",
    "        #fl/= steps; kl /= steps; rec /= steps\n",
    "        full_loss.append(fl); kld.append(kl); recon.append(rec)\n",
    "        efull_loss.append(efl); ekld.append(ekl); erecon.append(erec)\n",
    "        print(f\"Epoch {epc + 1}\\tFull loss: {full_loss[-1]}\\trecon loss: {recon[-1]}\\tkl_divergence: {kld[-1]}\")\n",
    "        \n",
    "    return model, (full_loss, kld, recon),(efull_loss, ekld, erecon)\n",
    "\n",
    "\n",
    "\n"
   ]
  },
  {
   "cell_type": "code",
   "execution_count": 8,
   "metadata": {
    "execution": {
     "iopub.execute_input": "2021-08-31T17:49:25.824287Z",
     "iopub.status.busy": "2021-08-31T17:49:25.823945Z",
     "iopub.status.idle": "2021-08-31T17:49:25.833423Z",
     "shell.execute_reply": "2021-08-31T17:49:25.832602Z",
     "shell.execute_reply.started": "2021-08-31T17:49:25.824258Z"
    }
   },
   "outputs": [],
   "source": [
    "#Model \n",
    "model = VAE(x.shape[1],HIDDEN,LATENT).to(device)\n",
    "# Optimizer\n",
    "\n",
    "optimizer = Adam(model.parameters(), lr=LR)"
   ]
  },
  {
   "cell_type": "code",
   "execution_count": 9,
   "metadata": {
    "execution": {
     "iopub.execute_input": "2021-08-31T17:49:26.440876Z",
     "iopub.status.busy": "2021-08-31T17:49:26.440524Z"
    }
   },
   "outputs": [
    {
     "name": "stderr",
     "output_type": "stream",
     "text": [
      "100%|████████████████████████████████████████████████████████████████████████████████████████████| 1875/1875 [00:19<00:00, 94.89it/s]\n"
     ]
    },
    {
     "name": "stdout",
     "output_type": "stream",
     "text": [
      "Epoch 1\tFull loss: 5.2405939468881115\trecon loss: 2.9288618995342404\tkl_divergence: 2.6721951315703336\n"
     ]
    },
    {
     "name": "stderr",
     "output_type": "stream",
     "text": [
      "100%|███████████████████████████████████████████████████████████████████████████████████████████| 1875/1875 [00:18<00:00, 102.54it/s]\n"
     ]
    },
    {
     "name": "stdout",
     "output_type": "stream",
     "text": [
      "Epoch 2\tFull loss: 2.2289866583887488\trecon loss: 1.876786369481124\tkl_divergence: 0.45171312664751895\n"
     ]
    },
    {
     "name": "stderr",
     "output_type": "stream",
     "text": [
      "100%|███████████████████████████████████████████████████████████████████████████████████████████| 1875/1875 [00:18<00:00, 102.10it/s]\n"
     ]
    },
    {
     "name": "stdout",
     "output_type": "stream",
     "text": [
      "Epoch 3\tFull loss: 1.7851433922769502\trecon loss: 1.576389424619265\tkl_divergence: 0.21977043227525428\n"
     ]
    },
    {
     "name": "stderr",
     "output_type": "stream",
     "text": [
      "100%|███████████████████████████████████████████████████████████████████████████████████████████| 1875/1875 [00:18<00:00, 103.45it/s]\n"
     ]
    },
    {
     "name": "stdout",
     "output_type": "stream",
     "text": [
      "Epoch 4\tFull loss: 1.5125012105563655\trecon loss: 1.3677298710099421\tkl_divergence: 0.11625962061225437\n"
     ]
    },
    {
     "name": "stderr",
     "output_type": "stream",
     "text": [
      "100%|████████████████████████████████████████████████████████████████████████████████████████████| 1875/1875 [00:19<00:00, 98.59it/s]\n"
     ]
    },
    {
     "name": "stdout",
     "output_type": "stream",
     "text": [
      "Epoch 5\tFull loss: 1.3004963552230038\trecon loss: 1.2092448661569506\tkl_divergence: 0.05635549244470894\n"
     ]
    },
    {
     "name": "stderr",
     "output_type": "stream",
     "text": [
      "100%|███████████████████████████████████████████████████████████████████████████████████████████| 1875/1875 [00:18<00:00, 101.00it/s]\n"
     ]
    },
    {
     "name": "stdout",
     "output_type": "stream",
     "text": [
      "Epoch 6\tFull loss: 1.1708163237490226\trecon loss: 1.1127797737717628\tkl_divergence: 0.03408772236434743\n"
     ]
    },
    {
     "name": "stderr",
     "output_type": "stream",
     "text": [
      "100%|████████████████████████████████████████████████████████████████████████████████████████████| 1875/1875 [00:19<00:00, 98.39it/s]\n"
     ]
    },
    {
     "name": "stdout",
     "output_type": "stream",
     "text": [
      "Epoch 7\tFull loss: 1.0989272988808807\trecon loss: 1.062177030777093\tkl_divergence: 0.028123908763518557\n"
     ]
    },
    {
     "name": "stderr",
     "output_type": "stream",
     "text": [
      "100%|████████████████████████████████████████████████████████████████████████████████████████████| 1875/1875 [00:19<00:00, 95.85it/s]\n"
     ]
    },
    {
     "name": "stdout",
     "output_type": "stream",
     "text": [
      "Epoch 8\tFull loss: 1.0565790854743682\trecon loss: 1.0347839366295375\tkl_divergence: 0.02706710423808545\n"
     ]
    },
    {
     "name": "stderr",
     "output_type": "stream",
     "text": [
      "100%|████████████████████████████████████████████████████████████████████████████████████████████| 1875/1875 [00:18<00:00, 99.77it/s]\n"
     ]
    },
    {
     "name": "stdout",
     "output_type": "stream",
     "text": [
      "Epoch 9\tFull loss: 1.018870037427405\trecon loss: 1.017221211688593\tkl_divergence: 0.026014275004854426\n"
     ]
    },
    {
     "name": "stderr",
     "output_type": "stream",
     "text": [
      "100%|████████████████████████████████████████████████████████████████████████████████████████████| 1875/1875 [00:19<00:00, 97.90it/s]\n"
     ]
    },
    {
     "name": "stdout",
     "output_type": "stream",
     "text": [
      "Epoch 10\tFull loss: 0.9941044266452082\trecon loss: 1.0030301601509564\tkl_divergence: 0.02495935492333956\n"
     ]
    },
    {
     "name": "stderr",
     "output_type": "stream",
     "text": [
      "100%|████████████████████████████████████████████████████████████████████████████████████████████| 1875/1875 [00:18<00:00, 99.27it/s]\n"
     ]
    },
    {
     "name": "stdout",
     "output_type": "stream",
     "text": [
      "Epoch 11\tFull loss: 0.977430129511049\trecon loss: 0.9952797536388971\tkl_divergence: 0.025206023652572185\n"
     ]
    },
    {
     "name": "stderr",
     "output_type": "stream",
     "text": [
      "100%|████████████████████████████████████████████████████████████████████████████████████████████| 1875/1875 [00:19<00:00, 98.61it/s]\n"
     ]
    },
    {
     "name": "stdout",
     "output_type": "stream",
     "text": [
      "Epoch 12\tFull loss: 0.9553270129254088\trecon loss: 0.9830785625381395\tkl_divergence: 0.023916660400573164\n"
     ]
    },
    {
     "name": "stderr",
     "output_type": "stream",
     "text": [
      "100%|████████████████████████████████████████████████████████████████████████████████████████████| 1875/1875 [00:19<00:00, 94.07it/s]\n"
     ]
    },
    {
     "name": "stdout",
     "output_type": "stream",
     "text": [
      "Epoch 13\tFull loss: 0.9458803601155523\trecon loss: 0.9783241818659008\tkl_divergence: 0.023743263707729056\n"
     ]
    },
    {
     "name": "stderr",
     "output_type": "stream",
     "text": [
      "100%|████████████████████████████████████████████████████████████████████████████████████████████| 1875/1875 [00:19<00:00, 94.56it/s]\n"
     ]
    },
    {
     "name": "stdout",
     "output_type": "stream",
     "text": [
      "Epoch 14\tFull loss: 0.9380845025007147\trecon loss: 0.9796667044283822\tkl_divergence: 0.02372273919172585\n"
     ]
    },
    {
     "name": "stderr",
     "output_type": "stream",
     "text": [
      "100%|████████████████████████████████████████████████████████████████████████████████████████████| 1875/1875 [00:18<00:00, 98.71it/s]\n"
     ]
    },
    {
     "name": "stdout",
     "output_type": "stream",
     "text": [
      "Epoch 15\tFull loss: 0.9322484318981878\trecon loss: 0.9772432454046793\tkl_divergence: 0.023499042814364657\n"
     ]
    },
    {
     "name": "stderr",
     "output_type": "stream",
     "text": [
      "100%|████████████████████████████████████████████████████████████████████████████████████████████| 1875/1875 [00:18<00:00, 99.84it/s]\n"
     ]
    },
    {
     "name": "stdout",
     "output_type": "stream",
     "text": [
      "Epoch 16\tFull loss: 0.9219496063305996\trecon loss: 0.9761171659920365\tkl_divergence: 0.02303131649387069\n"
     ]
    },
    {
     "name": "stderr",
     "output_type": "stream",
     "text": [
      "100%|████████████████████████████████████████████████████████████████████████████████████████████| 1875/1875 [00:19<00:00, 97.21it/s]\n"
     ]
    },
    {
     "name": "stdout",
     "output_type": "stream",
     "text": [
      "Epoch 17\tFull loss: 0.918066366109997\trecon loss: 0.9694021660252474\tkl_divergence: 0.023015541664790362\n"
     ]
    },
    {
     "name": "stderr",
     "output_type": "stream",
     "text": [
      "100%|████████████████████████████████████████████████████████████████████████████████████████████| 1875/1875 [00:19<00:00, 98.48it/s]\n"
     ]
    },
    {
     "name": "stdout",
     "output_type": "stream",
     "text": [
      "Epoch 18\tFull loss: 0.9133424584579188\trecon loss: 0.9663934729760513\tkl_divergence: 0.022974286024691537\n"
     ]
    },
    {
     "name": "stderr",
     "output_type": "stream",
     "text": [
      "100%|████████████████████████████████████████████████████████████████████████████████████████████| 1875/1875 [00:18<00:00, 99.51it/s]\n"
     ]
    },
    {
     "name": "stdout",
     "output_type": "stream",
     "text": [
      "Epoch 19\tFull loss: 0.9161517044703942\trecon loss: 0.9641775416675955\tkl_divergence: 0.022417883039452136\n"
     ]
    },
    {
     "name": "stderr",
     "output_type": "stream",
     "text": [
      "100%|████████████████████████████████████████████████████████████████████████████████████████████| 1875/1875 [00:19<00:00, 97.80it/s]\n"
     ]
    },
    {
     "name": "stdout",
     "output_type": "stream",
     "text": [
      "Epoch 20\tFull loss: 0.913904454180738\trecon loss: 0.962437754322309\tkl_divergence: 0.022730336640961468\n"
     ]
    },
    {
     "name": "stderr",
     "output_type": "stream",
     "text": [
      "100%|████████████████████████████████████████████████████████████████████████████████████████████| 1875/1875 [00:19<00:00, 98.38it/s]\n"
     ]
    },
    {
     "name": "stdout",
     "output_type": "stream",
     "text": [
      "Epoch 21\tFull loss: 0.9082888666598592\trecon loss: 0.9584232074557804\tkl_divergence: 0.02296900615328923\n"
     ]
    },
    {
     "name": "stderr",
     "output_type": "stream",
     "text": [
      "100%|████████████████████████████████████████████████████████████████████████████████████████████| 1875/1875 [00:18<00:00, 99.25it/s]\n"
     ]
    },
    {
     "name": "stdout",
     "output_type": "stream",
     "text": [
      "Epoch 22\tFull loss: 0.9054562549863476\trecon loss: 0.9591585221933201\tkl_divergence: 0.022625760320806876\n"
     ]
    },
    {
     "name": "stderr",
     "output_type": "stream",
     "text": [
      "100%|████████████████████████████████████████████████████████████████████████████████████████████| 1875/1875 [00:19<00:00, 97.16it/s]\n"
     ]
    },
    {
     "name": "stdout",
     "output_type": "stream",
     "text": [
      "Epoch 23\tFull loss: 0.9045903136720881\trecon loss: 0.9614014725666493\tkl_divergence: 0.022560407785931602\n"
     ]
    },
    {
     "name": "stderr",
     "output_type": "stream",
     "text": [
      "100%|████████████████████████████████████████████████████████████████████████████████████████████| 1875/1875 [00:19<00:00, 97.99it/s]\n"
     ]
    },
    {
     "name": "stdout",
     "output_type": "stream",
     "text": [
      "Epoch 24\tFull loss: 0.8911050345923286\trecon loss: 0.9538819576846436\tkl_divergence: 0.02162486733868718\n"
     ]
    },
    {
     "name": "stderr",
     "output_type": "stream",
     "text": [
      "100%|████████████████████████████████████████████████████████████████████████████████████████████| 1875/1875 [00:19<00:00, 96.82it/s]\n"
     ]
    },
    {
     "name": "stdout",
     "output_type": "stream",
     "text": [
      "Epoch 25\tFull loss: 0.8925403044268023\trecon loss: 0.9519784682197496\tkl_divergence: 0.02171561209252104\n"
     ]
    },
    {
     "name": "stderr",
     "output_type": "stream",
     "text": [
      "100%|████████████████████████████████████████████████████████████████████████████████████████████| 1875/1875 [00:19<00:00, 97.49it/s]\n"
     ]
    },
    {
     "name": "stdout",
     "output_type": "stream",
     "text": [
      "Epoch 26\tFull loss: 0.8977771143254358\trecon loss: 0.9560779321473092\tkl_divergence: 0.022024004603736103\n"
     ]
    },
    {
     "name": "stderr",
     "output_type": "stream",
     "text": [
      "100%|████████████████████████████████████████████████████████████████████████████████████████████| 1875/1875 [00:19<00:00, 93.92it/s]\n"
     ]
    },
    {
     "name": "stdout",
     "output_type": "stream",
     "text": [
      "Epoch 27\tFull loss: 0.8868278375302907\trecon loss: 0.9522811441565864\tkl_divergence: 0.021425060083856806\n"
     ]
    },
    {
     "name": "stderr",
     "output_type": "stream",
     "text": [
      "100%|████████████████████████████████████████████████████████████████████████████████████████████| 1875/1875 [00:19<00:00, 94.16it/s]\n"
     ]
    },
    {
     "name": "stdout",
     "output_type": "stream",
     "text": [
      "Epoch 28\tFull loss: 0.8904297255794518\trecon loss: 0.9560568503802642\tkl_divergence: 0.02160381176508963\n"
     ]
    },
    {
     "name": "stderr",
     "output_type": "stream",
     "text": [
      "100%|████████████████████████████████████████████████████████████████████████████████████████████| 1875/1875 [00:19<00:00, 95.22it/s]\n"
     ]
    },
    {
     "name": "stdout",
     "output_type": "stream",
     "text": [
      "Epoch 29\tFull loss: 0.8836863797332626\trecon loss: 0.9509589643566869\tkl_divergence: 0.02119603191385977\n"
     ]
    },
    {
     "name": "stderr",
     "output_type": "stream",
     "text": [
      "100%|████████████████████████████████████████████████████████████████████████████████████████████| 1875/1875 [00:19<00:00, 95.04it/s]\n"
     ]
    },
    {
     "name": "stdout",
     "output_type": "stream",
     "text": [
      "Epoch 30\tFull loss: 0.8824971081339754\trecon loss: 0.9494029134511948\tkl_divergence: 0.021546685631619766\n"
     ]
    },
    {
     "name": "stderr",
     "output_type": "stream",
     "text": [
      "100%|████████████████████████████████████████████████████████████████████████████████████████████| 1875/1875 [00:19<00:00, 93.97it/s]\n"
     ]
    },
    {
     "name": "stdout",
     "output_type": "stream",
     "text": [
      "Epoch 31\tFull loss: 0.8930018049431965\trecon loss: 0.9520594875793904\tkl_divergence: 0.021653637988492846\n"
     ]
    },
    {
     "name": "stderr",
     "output_type": "stream",
     "text": [
      "100%|████████████████████████████████████████████████████████████████████████████████████████████| 1875/1875 [00:19<00:00, 96.64it/s]\n"
     ]
    },
    {
     "name": "stdout",
     "output_type": "stream",
     "text": [
      "Epoch 32\tFull loss: 0.8920295299612917\trecon loss: 0.9575496389879845\tkl_divergence: 0.021243786381091923\n"
     ]
    },
    {
     "name": "stderr",
     "output_type": "stream",
     "text": [
      "100%|████████████████████████████████████████████████████████████████████████████████████████████| 1875/1875 [00:19<00:00, 95.46it/s]\n"
     ]
    },
    {
     "name": "stdout",
     "output_type": "stream",
     "text": [
      "Epoch 33\tFull loss: 0.8868635025573894\trecon loss: 0.9556353829684667\tkl_divergence: 0.02151613778551109\n"
     ]
    },
    {
     "name": "stderr",
     "output_type": "stream",
     "text": [
      "100%|████████████████████████████████████████████████████████████████████████████████████████████| 1875/1875 [00:19<00:00, 95.61it/s]\n"
     ]
    },
    {
     "name": "stdout",
     "output_type": "stream",
     "text": [
      "Epoch 34\tFull loss: 0.8827526416862383\trecon loss: 0.9466467597230803\tkl_divergence: 0.021695395291317254\n"
     ]
    },
    {
     "name": "stderr",
     "output_type": "stream",
     "text": [
      "100%|████████████████████████████████████████████████████████████████████████████████████████████| 1875/1875 [00:19<00:00, 94.59it/s]\n"
     ]
    },
    {
     "name": "stdout",
     "output_type": "stream",
     "text": [
      "Epoch 35\tFull loss: 0.8908161548024509\trecon loss: 0.9539917169022374\tkl_divergence: 0.021889931376790628\n"
     ]
    },
    {
     "name": "stderr",
     "output_type": "stream",
     "text": [
      "100%|████████████████████████████████████████████████████████████████████████████████████████████| 1875/1875 [00:19<00:00, 95.08it/s]\n"
     ]
    },
    {
     "name": "stdout",
     "output_type": "stream",
     "text": [
      "Epoch 36\tFull loss: 0.8810775390884373\trecon loss: 0.9462898157653399\tkl_divergence: 0.02074741487740539\n"
     ]
    },
    {
     "name": "stderr",
     "output_type": "stream",
     "text": [
      "100%|████████████████████████████████████████████████████████████████████████████████████████████| 1875/1875 [00:19<00:00, 95.29it/s]\n"
     ]
    },
    {
     "name": "stdout",
     "output_type": "stream",
     "text": [
      "Epoch 37\tFull loss: 0.8818913833529223\trecon loss: 0.9507964729564264\tkl_divergence: 0.021223989489953965\n"
     ]
    },
    {
     "name": "stderr",
     "output_type": "stream",
     "text": [
      "100%|████████████████████████████████████████████████████████████████████████████████████████████| 1875/1875 [00:19<00:00, 94.48it/s]\n"
     ]
    },
    {
     "name": "stdout",
     "output_type": "stream",
     "text": [
      "Epoch 38\tFull loss: 0.8832705594250001\trecon loss: 0.9514105198904872\tkl_divergence: 0.021268963668262586\n"
     ]
    },
    {
     "name": "stderr",
     "output_type": "stream",
     "text": [
      "100%|████████████████████████████████████████████████████████████████████████████████████████████| 1875/1875 [00:19<00:00, 95.62it/s]\n"
     ]
    },
    {
     "name": "stdout",
     "output_type": "stream",
     "text": [
      "Epoch 39\tFull loss: 0.8759649868006818\trecon loss: 0.9458366111502983\tkl_divergence: 0.02097426084219478\n"
     ]
    },
    {
     "name": "stderr",
     "output_type": "stream",
     "text": [
      "100%|████████████████████████████████████████████████████████████████████████████████████████████| 1875/1875 [00:19<00:00, 94.52it/s]\n"
     ]
    },
    {
     "name": "stdout",
     "output_type": "stream",
     "text": [
      "Epoch 40\tFull loss: 0.888004808628466\trecon loss: 0.9527987014444079\tkl_divergence: 0.021970252390019596\n"
     ]
    },
    {
     "name": "stderr",
     "output_type": "stream",
     "text": [
      "100%|████████████████████████████████████████████████████████████████████████████████████████████| 1875/1875 [00:19<00:00, 94.07it/s]\n"
     ]
    },
    {
     "name": "stdout",
     "output_type": "stream",
     "text": [
      "Epoch 41\tFull loss: 0.8771482490119524\trecon loss: 0.9430874457175378\tkl_divergence: 0.021086051012389362\n"
     ]
    },
    {
     "name": "stderr",
     "output_type": "stream",
     "text": [
      "100%|████████████████████████████████████████████████████████████████████████████████████████████| 1875/1875 [00:19<00:00, 94.65it/s]\n"
     ]
    },
    {
     "name": "stdout",
     "output_type": "stream",
     "text": [
      "Epoch 42\tFull loss: 0.8773098811798263\trecon loss: 0.9480197970988229\tkl_divergence: 0.021089533140184358\n"
     ]
    },
    {
     "name": "stderr",
     "output_type": "stream",
     "text": [
      "100%|████████████████████████████████████████████████████████████████████████████████████████████| 1875/1875 [00:19<00:00, 94.35it/s]\n"
     ]
    },
    {
     "name": "stdout",
     "output_type": "stream",
     "text": [
      "Epoch 43\tFull loss: 0.8785332801344339\trecon loss: 0.9512163090403192\tkl_divergence: 0.021782044786959887\n"
     ]
    },
    {
     "name": "stderr",
     "output_type": "stream",
     "text": [
      "100%|████████████████████████████████████████████████████████████████████████████████████████████| 1875/1875 [00:19<00:00, 94.09it/s]\n"
     ]
    },
    {
     "name": "stdout",
     "output_type": "stream",
     "text": [
      "Epoch 44\tFull loss: 0.8744303114654031\trecon loss: 0.9459426016837824\tkl_divergence: 0.02100894259638153\n"
     ]
    },
    {
     "name": "stderr",
     "output_type": "stream",
     "text": [
      "100%|████████████████████████████████████████████████████████████████████████████████████████████| 1875/1875 [00:20<00:00, 93.30it/s]\n"
     ]
    },
    {
     "name": "stdout",
     "output_type": "stream",
     "text": [
      "Epoch 45\tFull loss: 0.8726281434646808\trecon loss: 0.942841886280803\tkl_divergence: 0.021022494620410725\n"
     ]
    },
    {
     "name": "stderr",
     "output_type": "stream",
     "text": [
      "100%|████████████████████████████████████████████████████████████████████████████████████████████| 1875/1875 [00:20<00:00, 91.67it/s]\n"
     ]
    },
    {
     "name": "stdout",
     "output_type": "stream",
     "text": [
      "Epoch 46\tFull loss: 0.8692077362211421\trecon loss: 0.9473446506017353\tkl_divergence: 0.021239944180706516\n"
     ]
    },
    {
     "name": "stderr",
     "output_type": "stream",
     "text": [
      "100%|████████████████████████████████████████████████████████████████████████████████████████████| 1875/1875 [00:23<00:00, 81.22it/s]\n"
     ]
    },
    {
     "name": "stdout",
     "output_type": "stream",
     "text": [
      "Epoch 47\tFull loss: 0.8837459446804132\trecon loss: 0.9700336583773606\tkl_divergence: 0.02186364051885903\n"
     ]
    },
    {
     "name": "stderr",
     "output_type": "stream",
     "text": [
      "100%|████████████████████████████████████████████████████████████████████████████████████████████| 1875/1875 [00:21<00:00, 89.24it/s]\n"
     ]
    },
    {
     "name": "stdout",
     "output_type": "stream",
     "text": [
      "Epoch 48\tFull loss: 0.8669760655902792\trecon loss: 0.939157417480601\tkl_divergence: 0.020914219814585522\n"
     ]
    },
    {
     "name": "stderr",
     "output_type": "stream",
     "text": [
      "100%|████████████████████████████████████████████████████████████████████████████████████████████| 1875/1875 [00:20<00:00, 93.01it/s]\n"
     ]
    },
    {
     "name": "stdout",
     "output_type": "stream",
     "text": [
      "Epoch 49\tFull loss: 0.8826333331235219\trecon loss: 0.948235552321421\tkl_divergence: 0.022376857115887105\n"
     ]
    },
    {
     "name": "stderr",
     "output_type": "stream",
     "text": [
      "100%|████████████████████████████████████████████████████████████████████████████████████████████| 1875/1875 [00:18<00:00, 99.34it/s]"
     ]
    },
    {
     "name": "stdout",
     "output_type": "stream",
     "text": [
      "Epoch 50\tFull loss: 0.8701614431338385\trecon loss: 0.943937334115617\tkl_divergence: 0.021549893892370164\n"
     ]
    },
    {
     "name": "stderr",
     "output_type": "stream",
     "text": [
      "\n"
     ]
    }
   ],
   "source": [
    "(model, train_loss, eval_loss) = AEVB(data=x,\n",
    "                                      eval_data=eval_data_full,\n",
    "                                      model=model,\n",
    "                                      optimizer=optimizer,\n",
    "                                      input_dim=x.shape[1],\n",
    "                                      output_dim=x.shape[1],\n",
    "                                      batch_size=BATCH_SIZE,\n",
    "                                      epochs=EPOCHS)"
   ]
  },
  {
   "cell_type": "code",
   "execution_count": 22,
   "metadata": {},
   "outputs": [
    {
     "name": "stdout",
     "output_type": "stream",
     "text": [
      "50\n"
     ]
    },
    {
     "data": {
      "text/plain": [
       "Text(0, 0.5, 'Losses')"
      ]
     },
     "execution_count": 22,
     "metadata": {},
     "output_type": "execute_result"
    },
    {
     "data": {
      "image/png": "[encoded data removed]",
      "text/plain": [
       "<Figure size 432x288 with 1 Axes>"
      ]
     },
     "metadata": {
      "needs_background": "light"
     },
     "output_type": "display_data"
    }
   ],
   "source": [
    "%matplotlib inline\n",
    "print(len(train_loss[0]))\n",
    "\n",
    "# Plot losses\n",
    "plt.plot([i + 1 for i in range(len(train_loss[0]))], train_loss[0], color=\"red\", label=\"Train_Full_Loss\")\n",
    "plt.plot([i + 1 for i in range(len(eval_loss[0]))], eval_loss[0], color=\"orange\",label=\"Eval_Full_Loss\")\n",
    "plt.plot([i + 1 for i in range(len(train_loss[1]))], train_loss[1], color=\"blue\",label=\"Train_kld\")\n",
    "plt.plot([i + 1 for i in range(len(eval_loss[1]))], eval_loss[1], color=\"slateblue\",label=\"Eval_kld\")\n",
    "plt.plot([i + 1 for i in range(len(train_loss[2]))], train_loss[2], color=\"lime\",label=\"Train_reconstruct_loss\")\n",
    "plt.plot([i + 1 for i in range(len(eval_loss[2]))], eval_loss[2], color=\"mediumspringgreen\",label=\"Eval_reconstruct_loss\")\n",
    "\n",
    "# Legend\n",
    "\n",
    "plt.legend(loc='upper right',shadow=True)\n",
    "\n",
    "\n",
    "# Label\n",
    "plt.xlabel(\"# Epochs\")\n",
    "plt.ylabel(\"Losses\")\n"
   ]
  },
  {
   "cell_type": "code",
   "execution_count": 24,
   "metadata": {},
   "outputs": [],
   "source": [
    "def visualization(x):\n",
    "    kx = get_minibatch(x,25,device)\n",
    "    kx = add_noise(kx, std=1/3., device=device)\n",
    "    gen = model.generate(kx).cpu().detach().numpy()\n",
    "    kx = kx.cpu().detach().numpy()\n",
    "    \n",
    "\n",
    "    fig, ax = plt.subplots(5,5)\n",
    "    for i in range(1,6):\n",
    "        for j in range(1,6):\n",
    "            ax[i-1,j-1].axis(\"off\")\n",
    "            tmp = kx[i*j - 1]\n",
    "            tmp = tmp.reshape(28,28)\n",
    "            ax[i - 1,j - 1].imshow(tmp,cmap=\"gray\")\n",
    "    \n",
    "    \n",
    "    \n",
    "    \n",
    "    fig2, ax2 = plt.subplots(5,5)\n",
    "    for i in range(1,6):\n",
    "        for j in range(1,6):\n",
    "            ax2[i-1,j-1].axis(\"off\")\n",
    "            tmp = gen[i*j - 1]\n",
    "            tmp = tmp.reshape(28,28)\n",
    "            ax2[i - 1,j - 1].imshow(tmp,cmap=\"gray\")\n",
    "    fig.show()\n",
    "    fig2.show()"
   ]
  },
  {
   "cell_type": "code",
   "execution_count": 25,
   "metadata": {},
   "outputs": [
    {
     "name": "stderr",
     "output_type": "stream",
     "text": [
      "/tmp/ipykernel_78290/2716401791.py:26: UserWarning: Matplotlib is currently using module://matplotlib_inline.backend_inline, which is a non-GUI backend, so cannot show the figure.\n",
      "  fig.show()\n",
      "/tmp/ipykernel_78290/2716401791.py:27: UserWarning: Matplotlib is currently using module://matplotlib_inline.backend_inline, which is a non-GUI backend, so cannot show the figure.\n",
      "  fig2.show()\n"
     ]
    },
    {
     "data": {
      "image/png": "[encoded data removed]",
      "text/plain": [
       "<Figure size 432x288 with 25 Axes>"
      ]
     },
     "metadata": {
      "needs_background": "light"
     },
     "output_type": "display_data"
    },
    {
     "data": {
      "image/png": "[encoded data removed]",
      "text/plain": [
       "<Figure size 432x288 with 25 Axes>"
      ]
     },
     "metadata": {
      "needs_background": "light"
     },
     "output_type": "display_data"
    }
   ],
   "source": [
    "visualization(eval_data)"
   ]
  },
  {
   "cell_type": "code",
   "execution_count": null,
   "metadata": {},
   "outputs": [],
   "source": []
  },
  {
   "cell_type": "code",
   "execution_count": null,
   "metadata": {},
   "outputs": [],
   "source": []
  },
  {
   "cell_type": "code",
   "execution_count": null,
   "metadata": {},
   "outputs": [],
   "source": []
  }
 ],
 "metadata": {
  "kernelspec": {
   "display_name": "Python 3 (ipykernel)",
   "language": "python",
   "name": "python3"
  },
  "language_info": {
   "codemirror_mode": {
    "name": "ipython",
    "version": 3
   },
   "file_extension": ".py",
   "mimetype": "text/x-python",
   "name": "python",
   "nbconvert_exporter": "python",
   "pygments_lexer": "ipython3",
   "version": "3.9.6"
  }
 },
 "nbformat": 4,
 "nbformat_minor": 4
}
