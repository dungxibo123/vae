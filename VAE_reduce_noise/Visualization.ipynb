{
 "cells": [
  {
   "cell_type": "code",
   "execution_count": 2,
   "metadata": {
    "execution": {
     "iopub.execute_input": "2021-08-31T17:28:12.668068Z",
     "iopub.status.busy": "2021-08-31T17:28:12.667456Z",
     "iopub.status.idle": "2021-08-31T17:28:14.662531Z",
     "shell.execute_reply": "2021-08-31T17:28:14.661710Z",
     "shell.execute_reply.started": "2021-08-31T17:28:12.668012Z"
    }
   },
   "outputs": [],
   "source": [
    "import torch\n",
    "#from data import *\n",
    "import scipy\n",
    "from scipy.stats import norm\n",
    "import matplotlib.pyplot as plt\n",
    "from torch.optim import Adagrad\n",
    "from torch.optim import Adam\n",
    "from tqdm import tqdm\n",
    "#from vae import *\n",
    "#import argparse\n",
    "\n",
    "import numpy as np\n",
    "import torch.nn as nn\n",
    "import torch.nn.functional as F\n",
    "import matplotlib.gridspec as gridspec\n"
   ]
  },
  {
   "cell_type": "code",
   "execution_count": 3,
   "metadata": {
    "execution": {
     "iopub.execute_input": "2021-08-31T17:49:20.261433Z",
     "iopub.status.busy": "2021-08-31T17:49:20.261110Z",
     "iopub.status.idle": "2021-08-31T17:49:20.266046Z",
     "shell.execute_reply": "2021-08-31T17:49:20.264828Z",
     "shell.execute_reply.started": "2021-08-31T17:49:20.261404Z"
    }
   },
   "outputs": [],
   "source": [
    "HIDDEN=64\n",
    "BATCH_SIZE=32\n",
    "EPOCHS=50\n",
    "LR=2e-3\n",
    "LATENT=64\n",
    "\n",
    "\n",
    "#specify the device\n",
    "device=\"cuda:0\""
   ]
  },
  {
   "cell_type": "code",
   "execution_count": 4,
   "metadata": {
    "execution": {
     "iopub.execute_input": "2021-08-31T17:49:21.135630Z",
     "iopub.status.busy": "2021-08-31T17:49:21.135318Z",
     "iopub.status.idle": "2021-08-31T17:49:21.147801Z",
     "shell.execute_reply": "2021-08-31T17:49:21.146683Z",
     "shell.execute_reply.started": "2021-08-31T17:49:21.135602Z"
    }
   },
   "outputs": [],
   "source": [
    "class VAE(nn.Module):\n",
    "    def __init__(self, input_dim, hidden_dim, latent_dim=2):\n",
    "        \"\"\"\n",
    "            @param input_dim: input dimension of the data\n",
    "            @param hidden_dim: hidden dimension of the MLPs\n",
    "            @param latent_dim: output dimension of MLPs\n",
    "            @------------------@\n",
    "            @return: None\n",
    "        \"\"\"\n",
    "        super(VAE,self).__init__()\n",
    "        self.en = nn.Sequential(\n",
    "            nn.Linear(input_dim,hidden_dim),\n",
    "            nn.BatchNorm1d(hidden_dim),\n",
    "            nn.LeakyReLU()\n",
    "        )\n",
    "        self.mu = nn.Linear(hidden_dim, latent_dim)\n",
    "        self.var = nn.Linear(hidden_dim,latent_dim)\n",
    "        \n",
    "        self.de = nn.Sequential(\n",
    "            nn.Linear(latent_dim,hidden_dim),\n",
    "            nn.BatchNorm1d(hidden_dim),\n",
    "            nn.LeakyReLU()\n",
    "        )\n",
    "\n",
    "        self.final_layer=nn.Sequential(\n",
    "            nn.Linear(hidden_dim,input_dim),\n",
    "        )\n",
    "\n",
    "        \n",
    "          \n",
    "    def encode(self,x):\n",
    "        #x = torch.flatten(x)\n",
    "        res = self.en(x)\n",
    "        mu = self.mu(res)\n",
    "        log_var = self.var(res)\n",
    "        \n",
    "        return mu,log_var\n",
    "            \n",
    "    def decode(self,x):\n",
    "        res = self.de(x)\n",
    "        res = self.final_layer(res)\n",
    "        return res\n",
    "    def reparameterize(self,mu,log_var):\n",
    "        epsilon = torch.normal(mu,torch.exp(0.5 * log_var))\n",
    "        return mu + log_var * epsilon\n",
    "    def forward(self,x):\n",
    "        mu, log_var = self.encode(x)\n",
    "        norm = self.reparameterize(mu,log_var)\n",
    "        res = self.decode(norm)\n",
    "        return (res, x, mu,log_var)\n",
    "\n",
    "\n",
    "\n",
    "    def loss_fc(self,x,label,*args):\n",
    "        (res, x, mu, log_var) = self.forward(x)\n",
    "        recon_loss = F.mse_loss(res,label)\n",
    "        KL_divergence = torch.mean(-0.5 * torch.sum((1 + log_var - mu**2 - torch.exp(log_var)),dim=1), dim=0)\n",
    "        KL_divergence.required_grad = True\n",
    "        loss = recon_loss + KL_divergence\n",
    "        \n",
    "        return dict({'loss': loss, 'recon_loss': recon_loss, 'kl_loss': KL_divergence})\n",
    "\n",
    "\n",
    "\n",
    "    def generate(self,x):\n",
    "        return self.forward(x)[0]\n"
   ]
  },
  {
   "cell_type": "code",
   "execution_count": 5,
   "metadata": {
    "execution": {
     "iopub.execute_input": "2021-08-31T17:49:21.890366Z",
     "iopub.status.busy": "2021-08-31T17:49:21.890075Z",
     "iopub.status.idle": "2021-08-31T17:49:21.895967Z",
     "shell.execute_reply": "2021-08-31T17:49:21.895135Z",
     "shell.execute_reply.started": "2021-08-31T17:49:21.890340Z"
    }
   },
   "outputs": [],
   "source": [
    "from scipy.io import loadmat\n",
    "\n",
    "def get_minibatch(x,batch_size,device='cpu'):\n",
    "    indices = torch.randperm(x.shape[0])[:batch_size]\n",
    "    return x[indices].reshape(batch_size, -1).to(device)\n",
    "def get_data(path,nums=25000):\n",
    "    img_data = scipy.io.loadmat(path)[\"data\"].T / 255.\n",
    "    img_data = torch.Tensor(img_data)\n",
    "    img_data = get_minibatch(img_data,nums)\n",
    "    img_data = img_data.to(device)\n",
    "    distri = torch.zeros(img_data.shape)\n",
    "    \n",
    "    print(f\"Shape of a data point: {img_data.shape}\")\n",
    "    print(f\"Example data {img_data[0:1].shape}\")\n",
    "    return img_data\n",
    "\n",
    "def add_noise(data, std=1/10.,device='cpu'):\n",
    "    distri = torch.normal(torch.zeros(data.shape),torch.ones(data.shape) * std).to(device)\n",
    "    return data + distri\n",
    "    #print(distri)"
   ]
  },
  {
   "cell_type": "code",
   "execution_count": 6,
   "metadata": {},
   "outputs": [
    {
     "name": "stdout",
     "output_type": "stream",
     "text": [
      "Shape of a data point: torch.Size([65000, 784])\n",
      "Example data torch.Size([1, 784])\n"
     ]
    },
    {
     "data": {
      "text/plain": [
       "<matplotlib.image.AxesImage at 0x7f18153dd8b0>"
      ]
     },
     "execution_count": 6,
     "metadata": {},
     "output_type": "execute_result"
    },
    {
     "data": {
      "image/png": "[encoded data removed]",
      "text/plain": [
       "<Figure size 432x288 with 1 Axes>"
      ]
     },
     "metadata": {
      "needs_background": "light"
     },
     "output_type": "display_data"
    }
   ],
   "source": [
    "x = get_data(\"../Data/mnist.mat\", nums=65000)\n",
    "t = add_noise(x,std=1/4.,device=device).cpu().detach().numpy()\n",
    "plt.imshow(t[0].reshape(28,28),cmap=\"gray\")"
   ]
  },
  {
   "cell_type": "code",
   "execution_count": null,
   "metadata": {
    "execution": {
     "iopub.execute_input": "2021-08-31T17:49:22.552001Z",
     "iopub.status.busy": "2021-08-31T17:49:22.551656Z",
     "iopub.status.idle": "2021-08-31T17:49:22.938249Z",
     "shell.execute_reply": "2021-08-31T17:49:22.937359Z",
     "shell.execute_reply.started": "2021-08-31T17:49:22.551972Z"
    }
   },
   "outputs": [],
   "source": []
  },
  {
   "cell_type": "code",
   "execution_count": 7,
   "metadata": {
    "execution": {
     "iopub.execute_input": "2021-08-31T17:49:24.647861Z",
     "iopub.status.busy": "2021-08-31T17:49:24.647501Z",
     "iopub.status.idle": "2021-08-31T17:49:24.655833Z",
     "shell.execute_reply": "2021-08-31T17:49:24.654640Z",
     "shell.execute_reply.started": "2021-08-31T17:49:24.647829Z"
    }
   },
   "outputs": [],
   "source": [
    "def AEVB(data, model, optimizer, input_dim, output_dim,epochs, batch_size):\n",
    "    full_loss, kld, recon = [],[],[]\n",
    "    for epc in range(epochs):\n",
    "        fl,kl,rec = 0,0,0\n",
    "        steps = x.shape[0] // batch_size\n",
    "        for _ in tqdm(range(steps)):\n",
    "            batch = get_minibatch(x,batch_size,device)\n",
    "            batch_noise = add_noise(batch, std=1/45., device=device)\n",
    "            optimizer.zero_grad()\n",
    " \n",
    "            losses = model.loss_fc(batch_noise,batch)\n",
    "        \n",
    "            fl += losses[\"loss\"].item() / batch_size\n",
    "            kl += losses[\"kl_loss\"].item() / batch_size\n",
    "            rec += losses[\"recon_loss\"].item() / batch_size\n",
    "        \n",
    "            losses[\"loss\"].backward()\n",
    "\n",
    "            optimizer.step()\n",
    "        fl /= steps; kl /= steps; rec /= steps\n",
    "        full_loss.append(fl); kld.append(kl); recon.append(rec)\n",
    "        print(f\"Epoch {epc + 1}\\tFull loss: {full_loss[-1]}\\trecon loss: {recon[-1]}\\tkl_divergence: {kld[-1]}\")\n",
    "        \n",
    "    return model, full_loss, kld, recon \n",
    "\n",
    "\n",
    "\n"
   ]
  },
  {
   "cell_type": "code",
   "execution_count": 8,
   "metadata": {
    "execution": {
     "iopub.execute_input": "2021-08-31T17:49:25.824287Z",
     "iopub.status.busy": "2021-08-31T17:49:25.823945Z",
     "iopub.status.idle": "2021-08-31T17:49:25.833423Z",
     "shell.execute_reply": "2021-08-31T17:49:25.832602Z",
     "shell.execute_reply.started": "2021-08-31T17:49:25.824258Z"
    }
   },
   "outputs": [],
   "source": [
    "#Model \n",
    "model = VAE(x.shape[1],HIDDEN,LATENT).to(device)\n",
    "# Optimizer\n",
    "\n",
    "optimizer = Adam(model.parameters(), lr=LR)"
   ]
  },
  {
   "cell_type": "code",
   "execution_count": 9,
   "metadata": {
    "execution": {
     "iopub.execute_input": "2021-08-31T17:49:26.440876Z",
     "iopub.status.busy": "2021-08-31T17:49:26.440524Z"
    }
   },
   "outputs": [
    {
     "name": "stderr",
     "output_type": "stream",
     "text": [
      "100%|███████████████████████████████████████████████████████████████████████████████████████████| 2031/2031 [00:08<00:00, 236.41it/s]\n"
     ]
    },
    {
     "name": "stdout",
     "output_type": "stream",
     "text": [
      "Epoch 1\tFull loss: 0.0033081704348276206\trecon loss: 0.0014936315445268388\tkl_divergence: 0.0018145388856579256\n"
     ]
    },
    {
     "name": "stderr",
     "output_type": "stream",
     "text": [
      "100%|███████████████████████████████████████████████████████████████████████████████████████████| 2031/2031 [00:08<00:00, 244.87it/s]\n"
     ]
    },
    {
     "name": "stdout",
     "output_type": "stream",
     "text": [
      "Epoch 2\tFull loss: 0.001271870609220156\trecon loss: 0.0010754295828791654\tkl_divergence: 0.0001964410249366696\n"
     ]
    },
    {
     "name": "stderr",
     "output_type": "stream",
     "text": [
      "100%|███████████████████████████████████████████████████████████████████████████████████████████| 2031/2031 [00:10<00:00, 198.50it/s]\n"
     ]
    },
    {
     "name": "stdout",
     "output_type": "stream",
     "text": [
      "Epoch 3\tFull loss: 0.0009518435681667518\trecon loss: 0.0008892690898036168\tkl_divergence: 6.257447879302904e-05\n"
     ]
    },
    {
     "name": "stderr",
     "output_type": "stream",
     "text": [
      "100%|███████████████████████████████████████████████████████████████████████████████████████████| 2031/2031 [00:09<00:00, 223.01it/s]\n"
     ]
    },
    {
     "name": "stdout",
     "output_type": "stream",
     "text": [
      "Epoch 4\tFull loss: 0.0007765228273532734\trecon loss: 0.0007552628821013784\tkl_divergence: 2.1259945509831478e-05\n"
     ]
    },
    {
     "name": "stderr",
     "output_type": "stream",
     "text": [
      "100%|███████████████████████████████████████████████████████████████████████████████████████████| 2031/2031 [00:09<00:00, 221.35it/s]\n"
     ]
    },
    {
     "name": "stdout",
     "output_type": "stream",
     "text": [
      "Epoch 5\tFull loss: 0.0006686868940219595\trecon loss: 0.0006549687249801964\tkl_divergence: 1.3718169099082211e-05\n"
     ]
    },
    {
     "name": "stderr",
     "output_type": "stream",
     "text": [
      "100%|███████████████████████████████████████████████████████████████████████████████████████████| 2031/2031 [00:10<00:00, 197.80it/s]\n"
     ]
    },
    {
     "name": "stdout",
     "output_type": "stream",
     "text": [
      "Epoch 6\tFull loss: 0.0005977401556710816\trecon loss: 0.0005856176657092738\tkl_divergence: 1.2122489517583988e-05\n"
     ]
    },
    {
     "name": "stderr",
     "output_type": "stream",
     "text": [
      "100%|███████████████████████████████████████████████████████████████████████████████████████████| 2031/2031 [00:10<00:00, 193.63it/s]\n"
     ]
    },
    {
     "name": "stdout",
     "output_type": "stream",
     "text": [
      "Epoch 7\tFull loss: 0.0005484911225860409\trecon loss: 0.0005373773616006078\tkl_divergence: 1.1113761830891532e-05\n"
     ]
    },
    {
     "name": "stderr",
     "output_type": "stream",
     "text": [
      "100%|███████████████████████████████████████████████████████████████████████████████████████████| 2031/2031 [00:10<00:00, 194.32it/s]\n"
     ]
    },
    {
     "name": "stdout",
     "output_type": "stream",
     "text": [
      "Epoch 8\tFull loss: 0.0005229958586425969\trecon loss: 0.0005118309015546642\tkl_divergence: 1.1164957130922106e-05\n"
     ]
    },
    {
     "name": "stderr",
     "output_type": "stream",
     "text": [
      "100%|███████████████████████████████████████████████████████████████████████████████████████████| 2031/2031 [00:10<00:00, 193.66it/s]\n"
     ]
    },
    {
     "name": "stdout",
     "output_type": "stream",
     "text": [
      "Epoch 9\tFull loss: 0.0004997051186470525\trecon loss: 0.0004886895339955048\tkl_divergence: 1.1015584837835133e-05\n"
     ]
    },
    {
     "name": "stderr",
     "output_type": "stream",
     "text": [
      "100%|███████████████████████████████████████████████████████████████████████████████████████████| 2031/2031 [00:11<00:00, 171.39it/s]\n"
     ]
    },
    {
     "name": "stdout",
     "output_type": "stream",
     "text": [
      "Epoch 10\tFull loss: 0.0004862183488735536\trecon loss: 0.0004755246252312629\tkl_divergence: 1.0693723943216542e-05\n"
     ]
    },
    {
     "name": "stderr",
     "output_type": "stream",
     "text": [
      "100%|███████████████████████████████████████████████████████████████████████████████████████████| 2031/2031 [00:09<00:00, 210.92it/s]\n"
     ]
    },
    {
     "name": "stdout",
     "output_type": "stream",
     "text": [
      "Epoch 11\tFull loss: 0.0004788138080286967\trecon loss: 0.00046787259462626547\tkl_divergence: 1.0941213287792803e-05\n"
     ]
    },
    {
     "name": "stderr",
     "output_type": "stream",
     "text": [
      "100%|███████████████████████████████████████████████████████████████████████████████████████████| 2031/2031 [00:09<00:00, 207.83it/s]\n"
     ]
    },
    {
     "name": "stdout",
     "output_type": "stream",
     "text": [
      "Epoch 12\tFull loss: 0.0004686781512095319\trecon loss: 0.0004581064035549002\tkl_divergence: 1.0571747912568142e-05\n"
     ]
    },
    {
     "name": "stderr",
     "output_type": "stream",
     "text": [
      "100%|███████████████████████████████████████████████████████████████████████████████████████████| 2031/2031 [00:08<00:00, 231.38it/s]\n"
     ]
    },
    {
     "name": "stdout",
     "output_type": "stream",
     "text": [
      "Epoch 13\tFull loss: 0.00046047088199736234\trecon loss: 0.0004499870799708853\tkl_divergence: 1.0483801926168417e-05\n"
     ]
    },
    {
     "name": "stderr",
     "output_type": "stream",
     "text": [
      "100%|███████████████████████████████████████████████████████████████████████████████████████████| 2031/2031 [00:08<00:00, 227.00it/s]\n"
     ]
    },
    {
     "name": "stdout",
     "output_type": "stream",
     "text": [
      "Epoch 14\tFull loss: 0.00045221630422935413\trecon loss: 0.0004418677958511486\tkl_divergence: 1.034850857882283e-05\n"
     ]
    },
    {
     "name": "stderr",
     "output_type": "stream",
     "text": [
      "100%|███████████████████████████████████████████████████████████████████████████████████████████| 2031/2031 [00:10<00:00, 189.50it/s]\n"
     ]
    },
    {
     "name": "stdout",
     "output_type": "stream",
     "text": [
      "Epoch 15\tFull loss: 0.0004491962168956334\trecon loss: 0.00043899064357628644\tkl_divergence: 1.0205572932442272e-05\n"
     ]
    },
    {
     "name": "stderr",
     "output_type": "stream",
     "text": [
      "100%|███████████████████████████████████████████████████████████████████████████████████████████| 2031/2031 [00:10<00:00, 197.36it/s]\n"
     ]
    },
    {
     "name": "stdout",
     "output_type": "stream",
     "text": [
      "Epoch 16\tFull loss: 0.0004465627132054943\trecon loss: 0.0004363487235054691\tkl_divergence: 1.021398941342912e-05\n"
     ]
    },
    {
     "name": "stderr",
     "output_type": "stream",
     "text": [
      "100%|███████████████████████████████████████████████████████████████████████████████████████████| 2031/2031 [00:09<00:00, 219.02it/s]\n"
     ]
    },
    {
     "name": "stdout",
     "output_type": "stream",
     "text": [
      "Epoch 17\tFull loss: 0.0004406394894935965\trecon loss: 0.0004308456120672551\tkl_divergence: 9.793877440671185e-06\n"
     ]
    },
    {
     "name": "stderr",
     "output_type": "stream",
     "text": [
      "100%|███████████████████████████████████████████████████████████████████████████████████████████| 2031/2031 [00:09<00:00, 216.61it/s]\n"
     ]
    },
    {
     "name": "stdout",
     "output_type": "stream",
     "text": [
      "Epoch 18\tFull loss: 0.000439442280098839\trecon loss: 0.0004296458222904916\tkl_divergence: 9.796457536081114e-06\n"
     ]
    },
    {
     "name": "stderr",
     "output_type": "stream",
     "text": [
      "100%|███████████████████████████████████████████████████████████████████████████████████████████| 2031/2031 [00:09<00:00, 215.80it/s]\n"
     ]
    },
    {
     "name": "stdout",
     "output_type": "stream",
     "text": [
      "Epoch 19\tFull loss: 0.0004346157315933223\trecon loss: 0.00042475471173042585\tkl_divergence: 9.861019877226246e-06\n"
     ]
    },
    {
     "name": "stderr",
     "output_type": "stream",
     "text": [
      "100%|███████████████████████████████████████████████████████████████████████████████████████████| 2031/2031 [00:10<00:00, 198.16it/s]\n"
     ]
    },
    {
     "name": "stdout",
     "output_type": "stream",
     "text": [
      "Epoch 20\tFull loss: 0.0004327632456870932\trecon loss: 0.0004231945055482816\tkl_divergence: 9.568740153141368e-06\n"
     ]
    },
    {
     "name": "stderr",
     "output_type": "stream",
     "text": [
      "100%|███████████████████████████████████████████████████████████████████████████████████████████| 2031/2031 [00:10<00:00, 190.09it/s]\n"
     ]
    },
    {
     "name": "stdout",
     "output_type": "stream",
     "text": [
      "Epoch 21\tFull loss: 0.00043173800161244106\trecon loss: 0.0004221130072801584\tkl_divergence: 9.624994504240267e-06\n"
     ]
    },
    {
     "name": "stderr",
     "output_type": "stream",
     "text": [
      "100%|███████████████████████████████████████████████████████████████████████████████████████████| 2031/2031 [00:09<00:00, 203.11it/s]\n"
     ]
    },
    {
     "name": "stdout",
     "output_type": "stream",
     "text": [
      "Epoch 22\tFull loss: 0.00043007618851284714\trecon loss: 0.00041999951724796674\tkl_divergence: 1.0076671236220808e-05\n"
     ]
    },
    {
     "name": "stderr",
     "output_type": "stream",
     "text": [
      "100%|███████████████████████████████████████████████████████████████████████████████████████████| 2031/2031 [00:10<00:00, 202.52it/s]\n"
     ]
    },
    {
     "name": "stdout",
     "output_type": "stream",
     "text": [
      "Epoch 23\tFull loss: 0.00042667313005029147\trecon loss: 0.00041710611653813644\tkl_divergence: 9.56701358380406e-06\n"
     ]
    },
    {
     "name": "stderr",
     "output_type": "stream",
     "text": [
      "100%|███████████████████████████████████████████████████████████████████████████████████████████| 2031/2031 [00:08<00:00, 228.36it/s]\n"
     ]
    },
    {
     "name": "stdout",
     "output_type": "stream",
     "text": [
      "Epoch 24\tFull loss: 0.00042837064251590725\trecon loss: 0.0004188872346073776\tkl_divergence: 9.483407894199864e-06\n"
     ]
    },
    {
     "name": "stderr",
     "output_type": "stream",
     "text": [
      "100%|███████████████████████████████████████████████████████████████████████████████████████████| 2031/2031 [00:09<00:00, 205.78it/s]\n"
     ]
    },
    {
     "name": "stdout",
     "output_type": "stream",
     "text": [
      "Epoch 25\tFull loss: 0.0004266831283266131\trecon loss: 0.00041737777024430944\tkl_divergence: 9.305358010654649e-06\n"
     ]
    },
    {
     "name": "stderr",
     "output_type": "stream",
     "text": [
      "100%|███████████████████████████████████████████████████████████████████████████████████████████| 2031/2031 [00:09<00:00, 207.72it/s]\n"
     ]
    },
    {
     "name": "stdout",
     "output_type": "stream",
     "text": [
      "Epoch 26\tFull loss: 0.0004241022260197916\trecon loss: 0.00041477449782488935\tkl_divergence: 9.327728237891648e-06\n"
     ]
    },
    {
     "name": "stderr",
     "output_type": "stream",
     "text": [
      "100%|███████████████████████████████████████████████████████████████████████████████████████████| 2031/2031 [00:10<00:00, 200.79it/s]\n"
     ]
    },
    {
     "name": "stdout",
     "output_type": "stream",
     "text": [
      "Epoch 27\tFull loss: 0.0004270337138277745\trecon loss: 0.00041721124910306534\tkl_divergence: 9.822464853677402e-06\n"
     ]
    },
    {
     "name": "stderr",
     "output_type": "stream",
     "text": [
      "100%|███████████████████████████████████████████████████████████████████████████████████████████| 2031/2031 [00:09<00:00, 215.78it/s]\n"
     ]
    },
    {
     "name": "stdout",
     "output_type": "stream",
     "text": [
      "Epoch 28\tFull loss: 0.0004257972188760971\trecon loss: 0.00041643443923722816\tkl_divergence: 9.362779538560308e-06\n"
     ]
    },
    {
     "name": "stderr",
     "output_type": "stream",
     "text": [
      "100%|███████████████████████████████████████████████████████████████████████████████████████████| 2031/2031 [00:09<00:00, 212.13it/s]\n"
     ]
    },
    {
     "name": "stdout",
     "output_type": "stream",
     "text": [
      "Epoch 29\tFull loss: 0.0004227629439910559\trecon loss: 0.00041352047882781557\tkl_divergence: 9.24246509159135e-06\n"
     ]
    },
    {
     "name": "stderr",
     "output_type": "stream",
     "text": [
      "100%|███████████████████████████████████████████████████████████████████████████████████████████| 2031/2031 [00:09<00:00, 217.14it/s]\n"
     ]
    },
    {
     "name": "stdout",
     "output_type": "stream",
     "text": [
      "Epoch 30\tFull loss: 0.00041953414211250064\trecon loss: 0.0004101700036070465\tkl_divergence: 9.364138505454136e-06\n"
     ]
    },
    {
     "name": "stderr",
     "output_type": "stream",
     "text": [
      "100%|███████████████████████████████████████████████████████████████████████████████████████████| 2031/2031 [00:08<00:00, 226.36it/s]\n"
     ]
    },
    {
     "name": "stdout",
     "output_type": "stream",
     "text": [
      "Epoch 31\tFull loss: 0.00042321396926151987\trecon loss: 0.0004138105133296633\tkl_divergence: 9.403455831547937e-06\n"
     ]
    },
    {
     "name": "stderr",
     "output_type": "stream",
     "text": [
      "100%|███████████████████████████████████████████████████████████████████████████████████████████| 2031/2031 [00:08<00:00, 226.04it/s]\n"
     ]
    },
    {
     "name": "stdout",
     "output_type": "stream",
     "text": [
      "Epoch 32\tFull loss: 0.0004242167371830292\trecon loss: 0.00041505118814165877\tkl_divergence: 9.16554911301945e-06\n"
     ]
    },
    {
     "name": "stderr",
     "output_type": "stream",
     "text": [
      "100%|███████████████████████████████████████████████████████████████████████████████████████████| 2031/2031 [00:09<00:00, 219.30it/s]\n"
     ]
    },
    {
     "name": "stdout",
     "output_type": "stream",
     "text": [
      "Epoch 33\tFull loss: 0.0004200443209541924\trecon loss: 0.0004105511014866778\tkl_divergence: 9.493219510504012e-06\n"
     ]
    },
    {
     "name": "stderr",
     "output_type": "stream",
     "text": [
      "100%|███████████████████████████████████████████████████████████████████████████████████████████| 2031/2031 [00:09<00:00, 218.20it/s]\n"
     ]
    },
    {
     "name": "stdout",
     "output_type": "stream",
     "text": [
      "Epoch 34\tFull loss: 0.000419237853396672\trecon loss: 0.0004099451683487804\tkl_divergence: 9.292684947583018e-06\n"
     ]
    },
    {
     "name": "stderr",
     "output_type": "stream",
     "text": [
      "100%|███████████████████████████████████████████████████████████████████████████████████████████| 2031/2031 [00:10<00:00, 200.36it/s]\n"
     ]
    },
    {
     "name": "stdout",
     "output_type": "stream",
     "text": [
      "Epoch 35\tFull loss: 0.0004241627542920372\trecon loss: 0.00041460159790068443\tkl_divergence: 9.561156491661405e-06\n"
     ]
    },
    {
     "name": "stderr",
     "output_type": "stream",
     "text": [
      "100%|███████████████████████████████████████████████████████████████████████████████████████████| 2031/2031 [00:09<00:00, 206.66it/s]\n"
     ]
    },
    {
     "name": "stdout",
     "output_type": "stream",
     "text": [
      "Epoch 36\tFull loss: 0.00042157065589496786\trecon loss: 0.0004122691144267989\tkl_divergence: 9.301541496828521e-06\n"
     ]
    },
    {
     "name": "stderr",
     "output_type": "stream",
     "text": [
      "100%|███████████████████████████████████████████████████████████████████████████████████████████| 2031/2031 [00:09<00:00, 222.93it/s]\n"
     ]
    },
    {
     "name": "stdout",
     "output_type": "stream",
     "text": [
      "Epoch 37\tFull loss: 0.0004197265403420889\trecon loss: 0.00041027150389643004\tkl_divergence: 9.455036574627072e-06\n"
     ]
    },
    {
     "name": "stderr",
     "output_type": "stream",
     "text": [
      "100%|███████████████████████████████████████████████████████████████████████████████████████████| 2031/2031 [00:09<00:00, 212.10it/s]\n"
     ]
    },
    {
     "name": "stdout",
     "output_type": "stream",
     "text": [
      "Epoch 38\tFull loss: 0.00042014945486612283\trecon loss: 0.0004107636278308332\tkl_divergence: 9.385826949310795e-06\n"
     ]
    },
    {
     "name": "stderr",
     "output_type": "stream",
     "text": [
      "100%|███████████████████████████████████████████████████████████████████████████████████████████| 2031/2031 [00:09<00:00, 222.82it/s]\n"
     ]
    },
    {
     "name": "stdout",
     "output_type": "stream",
     "text": [
      "Epoch 39\tFull loss: 0.00041833788155133737\trecon loss: 0.00040904684034682873\tkl_divergence: 9.29104121883846e-06\n"
     ]
    },
    {
     "name": "stderr",
     "output_type": "stream",
     "text": [
      "100%|███████████████████████████████████████████████████████████████████████████████████████████| 2031/2031 [00:09<00:00, 224.44it/s]\n"
     ]
    },
    {
     "name": "stdout",
     "output_type": "stream",
     "text": [
      "Epoch 40\tFull loss: 0.00042079673765446385\trecon loss: 0.0004114399222373469\tkl_divergence: 9.356815603404416e-06\n"
     ]
    },
    {
     "name": "stderr",
     "output_type": "stream",
     "text": [
      "100%|███████████████████████████████████████████████████████████████████████████████████████████| 2031/2031 [00:09<00:00, 218.84it/s]\n"
     ]
    },
    {
     "name": "stdout",
     "output_type": "stream",
     "text": [
      "Epoch 41\tFull loss: 0.00042514692075323114\trecon loss: 0.00041521937902024036\tkl_divergence: 9.92754166134175e-06\n"
     ]
    },
    {
     "name": "stderr",
     "output_type": "stream",
     "text": [
      "100%|███████████████████████████████████████████████████████████████████████████████████████████| 2031/2031 [00:09<00:00, 212.60it/s]\n"
     ]
    },
    {
     "name": "stdout",
     "output_type": "stream",
     "text": [
      "Epoch 42\tFull loss: 0.00041599717692601353\trecon loss: 0.00040705044601552356\tkl_divergence: 8.946730953479367e-06\n"
     ]
    },
    {
     "name": "stderr",
     "output_type": "stream",
     "text": [
      "100%|███████████████████████████████████████████████████████████████████████████████████████████| 2031/2031 [00:09<00:00, 224.75it/s]\n"
     ]
    },
    {
     "name": "stdout",
     "output_type": "stream",
     "text": [
      "Epoch 43\tFull loss: 0.00041813489669236453\trecon loss: 0.0004090813627201286\tkl_divergence: 9.053533986565744e-06\n"
     ]
    },
    {
     "name": "stderr",
     "output_type": "stream",
     "text": [
      "100%|███████████████████████████████████████████████████████████████████████████████████████████| 2031/2031 [00:08<00:00, 230.47it/s]\n"
     ]
    },
    {
     "name": "stdout",
     "output_type": "stream",
     "text": [
      "Epoch 44\tFull loss: 0.0004149249123532283\trecon loss: 0.0004058433237357422\tkl_divergence: 9.08158853150728e-06\n"
     ]
    },
    {
     "name": "stderr",
     "output_type": "stream",
     "text": [
      "100%|███████████████████████████████████████████████████████████████████████████████████████████| 2031/2031 [00:09<00:00, 211.12it/s]\n"
     ]
    },
    {
     "name": "stdout",
     "output_type": "stream",
     "text": [
      "Epoch 45\tFull loss: 0.00041883546657376963\trecon loss: 0.00040971245588301413\tkl_divergence: 9.123010719415114e-06\n"
     ]
    },
    {
     "name": "stderr",
     "output_type": "stream",
     "text": [
      "100%|███████████████████████████████████████████████████████████████████████████████████████████| 2031/2031 [00:08<00:00, 240.88it/s]\n"
     ]
    },
    {
     "name": "stdout",
     "output_type": "stream",
     "text": [
      "Epoch 46\tFull loss: 0.0004171154775107871\trecon loss: 0.000407883149852237\tkl_divergence: 9.232327500922244e-06\n"
     ]
    },
    {
     "name": "stderr",
     "output_type": "stream",
     "text": [
      "100%|███████████████████████████████████████████████████████████████████████████████████████████| 2031/2031 [00:09<00:00, 217.33it/s]\n"
     ]
    },
    {
     "name": "stdout",
     "output_type": "stream",
     "text": [
      "Epoch 47\tFull loss: 0.0004155483325942892\trecon loss: 0.0004066404876971442\tkl_divergence: 8.907844925804613e-06\n"
     ]
    },
    {
     "name": "stderr",
     "output_type": "stream",
     "text": [
      "100%|███████████████████████████████████████████████████████████████████████████████████████████| 2031/2031 [00:09<00:00, 204.93it/s]\n"
     ]
    },
    {
     "name": "stdout",
     "output_type": "stream",
     "text": [
      "Epoch 48\tFull loss: 0.0004154075851375288\trecon loss: 0.0004064609312927208\tkl_divergence: 8.94665388779734e-06\n"
     ]
    },
    {
     "name": "stderr",
     "output_type": "stream",
     "text": [
      "100%|███████████████████████████████████████████████████████████████████████████████████████████| 2031/2031 [00:09<00:00, 214.41it/s]\n"
     ]
    },
    {
     "name": "stdout",
     "output_type": "stream",
     "text": [
      "Epoch 49\tFull loss: 0.0004156814926351613\trecon loss: 0.0004067240674784641\tkl_divergence: 8.957425185356789e-06\n"
     ]
    },
    {
     "name": "stderr",
     "output_type": "stream",
     "text": [
      "100%|███████████████████████████████████████████████████████████████████████████████████████████| 2031/2031 [00:10<00:00, 198.19it/s]"
     ]
    },
    {
     "name": "stdout",
     "output_type": "stream",
     "text": [
      "Epoch 50\tFull loss: 0.00041662052743825174\trecon loss: 0.0004074545724192246\tkl_divergence: 9.165955047686696e-06\n"
     ]
    },
    {
     "name": "stderr",
     "output_type": "stream",
     "text": [
      "\n"
     ]
    }
   ],
   "source": [
    "(model, full_loss, kld, recon) = AEVB(data=x,\n",
    "                                      model=model,\n",
    "                                      optimizer=optimizer,\n",
    "                                      input_dim=x.shape[1],\n",
    "                                      output_dim=x.shape[1],\n",
    "                                      batch_size=BATCH_SIZE,\n",
    "                                      epochs=EPOCHS)"
   ]
  },
  {
   "cell_type": "code",
   "execution_count": 10,
   "metadata": {},
   "outputs": [
    {
     "data": {
      "text/plain": [
       "[<matplotlib.lines.Line2D at 0x7f1815291160>]"
      ]
     },
     "execution_count": 10,
     "metadata": {},
     "output_type": "execute_result"
    },
    {
     "data": {
      "image/png": "[encoded data removed]",
      "text/plain": [
       "<Figure size 432x288 with 1 Axes>"
      ]
     },
     "metadata": {
      "needs_background": "light"
     },
     "output_type": "display_data"
    }
   ],
   "source": [
    "%matplotlib inline\n",
    "\n",
    "plt.plot([i for i in range(len(full_loss))], full_loss)"
   ]
  },
  {
   "cell_type": "code",
   "execution_count": 15,
   "metadata": {},
   "outputs": [],
   "source": [
    "def visualization(x):\n",
    "    kx = get_minibatch(x,25,device)\n",
    "    kx = add_noise(kx, std=1/3., device=device)\n",
    "    gen = model.generate(kx).cpu().detach().numpy()\n",
    "    kx = kx.cpu().detach().numpy()\n",
    "    \n",
    "\n",
    "    fig, ax = plt.subplots(5,5)\n",
    "    for i in range(1,6):\n",
    "        for j in range(1,6):\n",
    "            ax[i-1,j-1].axis(\"off\")\n",
    "            tmp = kx[i*j - 1]\n",
    "            tmp = tmp.reshape(28,28)\n",
    "            ax[i - 1,j - 1].imshow(tmp,cmap=\"gray\")\n",
    "    \n",
    "    \n",
    "    \n",
    "    \n",
    "    fig2, ax2 = plt.subplots(5,5)\n",
    "    for i in range(1,6):\n",
    "        for j in range(1,6):\n",
    "            ax2[i-1,j-1].axis(\"off\")\n",
    "            tmp = gen[i*j - 1]\n",
    "            tmp = tmp.reshape(28,28)\n",
    "            ax2[i - 1,j - 1].imshow(tmp,cmap=\"gray\")\n",
    "    fig.show()\n",
    "    fig2.show()"
   ]
  },
  {
   "cell_type": "code",
   "execution_count": 16,
   "metadata": {},
   "outputs": [
    {
     "name": "stderr",
     "output_type": "stream",
     "text": [
      "/tmp/ipykernel_107505/2716401791.py:26: UserWarning: Matplotlib is currently using module://matplotlib_inline.backend_inline, which is a non-GUI backend, so cannot show the figure.\n",
      "  fig.show()\n",
      "/tmp/ipykernel_107505/2716401791.py:27: UserWarning: Matplotlib is currently using module://matplotlib_inline.backend_inline, which is a non-GUI backend, so cannot show the figure.\n",
      "  fig2.show()\n"
     ]
    },
    {
     "data": {
      "image/png": "[encoded data removed]",
      "text/plain": [
       "<Figure size 432x288 with 25 Axes>"
      ]
     },
     "metadata": {
      "needs_background": "light"
     },
     "output_type": "display_data"
    },
    {
     "data": {
      "image/png": "[encoded data removed]",
      "text/plain": [
       "<Figure size 432x288 with 25 Axes>"
      ]
     },
     "metadata": {
      "needs_background": "light"
     },
     "output_type": "display_data"
    }
   ],
   "source": [
    "visualization(x)"
   ]
  },
  {
   "cell_type": "code",
   "execution_count": null,
   "metadata": {},
   "outputs": [],
   "source": []
  },
  {
   "cell_type": "code",
   "execution_count": null,
   "metadata": {},
   "outputs": [],
   "source": []
  },
  {
   "cell_type": "code",
   "execution_count": null,
   "metadata": {},
   "outputs": [],
   "source": []
  }
 ],
 "metadata": {
  "kernelspec": {
   "display_name": "Python 3 (ipykernel)",
   "language": "python",
   "name": "python3"
  },
  "language_info": {
   "codemirror_mode": {
    "name": "ipython",
    "version": 3
   },
   "file_extension": ".py",
   "mimetype": "text/x-python",
   "name": "python",
   "nbconvert_exporter": "python",
   "pygments_lexer": "ipython3",
   "version": "3.9.6"
  }
 },
 "nbformat": 4,
 "nbformat_minor": 4
}
