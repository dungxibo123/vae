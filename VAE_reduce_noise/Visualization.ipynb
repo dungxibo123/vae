{
 "cells": [
  {
   "cell_type": "code",
   "execution_count": 2,
   "metadata": {
    "execution": {
     "iopub.execute_input": "2021-08-31T17:28:12.668068Z",
     "iopub.status.busy": "2021-08-31T17:28:12.667456Z",
     "iopub.status.idle": "2021-08-31T17:28:14.662531Z",
     "shell.execute_reply": "2021-08-31T17:28:14.661710Z",
     "shell.execute_reply.started": "2021-08-31T17:28:12.668012Z"
    }
   },
   "outputs": [],
   "source": [
    "import torch\n",
    "#from data import *\n",
    "import scipy\n",
    "from scipy.stats import norm\n",
    "import matplotlib.pyplot as plt\n",
    "from torch.optim import Adagrad\n",
    "from torch.optim import Adam\n",
    "from tqdm import tqdm\n",
    "#from vae import *\n",
    "#import argparse\n",
    "\n",
    "import numpy as np\n",
    "import torch.nn as nn\n",
    "import torch.nn.functional as F\n",
    "import matplotlib.gridspec as gridspec\n"
   ]
  },
  {
   "cell_type": "code",
   "execution_count": 123,
   "metadata": {
    "execution": {
     "iopub.execute_input": "2021-08-31T17:49:20.261433Z",
     "iopub.status.busy": "2021-08-31T17:49:20.261110Z",
     "iopub.status.idle": "2021-08-31T17:49:20.266046Z",
     "shell.execute_reply": "2021-08-31T17:49:20.264828Z",
     "shell.execute_reply.started": "2021-08-31T17:49:20.261404Z"
    }
   },
   "outputs": [],
   "source": [
    "HIDDEN=32\n",
    "BATCH_SIZE=64\n",
    "EPOCHS=50\n",
    "LR=2e-3\n",
    "LATENT=32\n",
    "\n",
    "\n",
    "#specify the device\n",
    "device=\"cuda:0\""
   ]
  },
  {
   "cell_type": "code",
   "execution_count": 124,
   "metadata": {
    "execution": {
     "iopub.execute_input": "2021-08-31T17:49:21.135630Z",
     "iopub.status.busy": "2021-08-31T17:49:21.135318Z",
     "iopub.status.idle": "2021-08-31T17:49:21.147801Z",
     "shell.execute_reply": "2021-08-31T17:49:21.146683Z",
     "shell.execute_reply.started": "2021-08-31T17:49:21.135602Z"
    }
   },
   "outputs": [],
   "source": [
    "class VAE(nn.Module):\n",
    "    def __init__(self, input_dim, hidden_dim, latent_dim=2):\n",
    "        \"\"\"\n",
    "            @param input_dim: input dimension of the data\n",
    "            @param hidden_dim: hidden dimension of the MLPs\n",
    "            @param latent_dim: output dimension of MLPs\n",
    "            @------------------@\n",
    "            @return: None\n",
    "        \"\"\"\n",
    "        super(VAE,self).__init__()\n",
    "        self.en = nn.Sequential(\n",
    "            nn.Linear(input_dim,hidden_dim),\n",
    "            nn.BatchNorm1d(hidden_dim),\n",
    "            nn.LeakyReLU()\n",
    "        )\n",
    "        self.mu = nn.Linear(hidden_dim, latent_dim)\n",
    "        self.var = nn.Linear(hidden_dim,latent_dim)\n",
    "        \n",
    "        self.de = nn.Sequential(\n",
    "            nn.Linear(latent_dim,hidden_dim),\n",
    "            nn.BatchNorm1d(hidden_dim),\n",
    "            nn.LeakyReLU()\n",
    "        )\n",
    "\n",
    "        self.final_layer=nn.Sequential(\n",
    "            nn.Linear(hidden_dim,input_dim),\n",
    "        )\n",
    "\n",
    "        \n",
    "          \n",
    "    def encode(self,x):\n",
    "        #x = torch.flatten(x)\n",
    "        res = self.en(x)\n",
    "        mu = self.mu(res)\n",
    "        log_var = self.var(res)\n",
    "        \n",
    "        return mu,log_var\n",
    "            \n",
    "    def decode(self,x):\n",
    "        res = self.de(x)\n",
    "        res = self.final_layer(res)\n",
    "        return res\n",
    "    def reparameterize(self,mu,log_var):\n",
    "        epsilon = torch.normal(mu,torch.exp(0.5 * log_var))\n",
    "        return mu + log_var * epsilon\n",
    "    def forward(self,x):\n",
    "        mu, log_var = self.encode(x)\n",
    "        norm = self.reparameterize(mu,log_var)\n",
    "        res = self.decode(norm)\n",
    "        return (res, x, mu,log_var)\n",
    "\n",
    "\n",
    "\n",
    "    def loss_fc(self,x,label,*args):\n",
    "        (res, x, mu, log_var) = self.forward(x)\n",
    "        recon_loss = F.mse_loss(res,label)\n",
    "        KL_divergence = torch.mean(-0.5 * torch.sum((1 + log_var - mu**2 - torch.exp(log_var)),dim=1), dim=0)\n",
    "        KL_divergence.required_grad = True\n",
    "        loss = recon_loss + KL_divergence\n",
    "        \n",
    "        return dict({'loss': loss, 'recon_loss': recon_loss, 'kl_loss': KL_divergence})\n",
    "\n",
    "\n",
    "\n",
    "    def generate(self,x):\n",
    "        return self.forward(x)[0]\n"
   ]
  },
  {
   "cell_type": "code",
   "execution_count": 125,
   "metadata": {
    "execution": {
     "iopub.execute_input": "2021-08-31T17:49:21.890366Z",
     "iopub.status.busy": "2021-08-31T17:49:21.890075Z",
     "iopub.status.idle": "2021-08-31T17:49:21.895967Z",
     "shell.execute_reply": "2021-08-31T17:49:21.895135Z",
     "shell.execute_reply.started": "2021-08-31T17:49:21.890340Z"
    }
   },
   "outputs": [],
   "source": [
    "from scipy.io import loadmat\n",
    "\n",
    "def get_minibatch(x,batch_size,device='cpu'):\n",
    "    indices = torch.randperm(x.shape[0])[:batch_size]\n",
    "    return x[indices].reshape(batch_size, -1).to(device)\n",
    "def get_data(path, noise=None,nums=25000):\n",
    "    img_data = scipy.io.loadmat(path)[\"data\"].T / 255.\n",
    "    img_data = torch.Tensor(img_data)\n",
    "    img_data = get_minibatch(img_data,nums)\n",
    "    img_data = img_data.to(device)\n",
    "    distri = torch.zeros(img_data.shape)\n",
    "    \n",
    "    print(f\"Shape of a data point: {img_data.shape}\")\n",
    "    print(f\"Example data {img_data[0:1].shape}\")\n",
    "    return img_data\n",
    "\n",
    "def add_noise(data, std=1/10.,device='cpu'):\n",
    "    distri = torch.normal(torch.zeros(data.shape),torch.ones(data.shape) * std).to(device)\n",
    "    return data + distri\n",
    "    #print(distri)"
   ]
  },
  {
   "cell_type": "code",
   "execution_count": 138,
   "metadata": {},
   "outputs": [
    {
     "name": "stdout",
     "output_type": "stream",
     "text": [
      "Shape of a data point: torch.Size([25000, 784])\n",
      "Example data torch.Size([1, 784])\n"
     ]
    },
    {
     "data": {
      "text/plain": [
       "<matplotlib.image.AxesImage at 0x7f157dbaa5b0>"
      ]
     },
     "execution_count": 138,
     "metadata": {},
     "output_type": "execute_result"
    },
    {
     "data": {
      "image/png": "[encoded data removed]",
      "text/plain": [
       "<Figure size 432x288 with 1 Axes>"
      ]
     },
     "metadata": {
      "needs_background": "light"
     },
     "output_type": "display_data"
    }
   ],
   "source": [
    "x = get_data(\"../Data/mnist.mat\", noise=True)\n",
    "t = add_noise(x,std=1/4.,device=device).cpu().detach().numpy()\n",
    "plt.imshow(t[0].reshape(28,28),cmap=\"gray\")"
   ]
  },
  {
   "cell_type": "code",
   "execution_count": null,
   "metadata": {
    "execution": {
     "iopub.execute_input": "2021-08-31T17:49:22.552001Z",
     "iopub.status.busy": "2021-08-31T17:49:22.551656Z",
     "iopub.status.idle": "2021-08-31T17:49:22.938249Z",
     "shell.execute_reply": "2021-08-31T17:49:22.937359Z",
     "shell.execute_reply.started": "2021-08-31T17:49:22.551972Z"
    }
   },
   "outputs": [],
   "source": []
  },
  {
   "cell_type": "code",
   "execution_count": 139,
   "metadata": {
    "execution": {
     "iopub.execute_input": "2021-08-31T17:49:24.647861Z",
     "iopub.status.busy": "2021-08-31T17:49:24.647501Z",
     "iopub.status.idle": "2021-08-31T17:49:24.655833Z",
     "shell.execute_reply": "2021-08-31T17:49:24.654640Z",
     "shell.execute_reply.started": "2021-08-31T17:49:24.647829Z"
    }
   },
   "outputs": [],
   "source": [
    "def AEVB(data, model, optimizer, input_dim, output_dim,epochs, batch_size):\n",
    "    full_loss, kld, recon = [],[],[]\n",
    "    for epc in range(epochs):\n",
    "        fl,kl,rec = 0,0,0\n",
    "        steps = x.shape[0] // batch_size\n",
    "        for _ in tqdm(range(steps)):\n",
    "            batch = get_minibatch(x,batch_size,device)\n",
    "            batch_noise = add_noise(batch, std=1/45., device=device)\n",
    "            optimizer.zero_grad()\n",
    " \n",
    "            losses = model.loss_fc(batch_noise,batch)\n",
    "        \n",
    "            fl += losses[\"loss\"].item() / batch_size\n",
    "            kl += losses[\"kl_loss\"].item() / batch_size\n",
    "            rec += losses[\"recon_loss\"].item() / batch_size\n",
    "        \n",
    "            losses[\"loss\"].backward()\n",
    "\n",
    "            optimizer.step()\n",
    "        fl /= steps; kl /= steps; rec /= steps\n",
    "        full_loss.append(fl); kld.append(kl); recon.append(rec)\n",
    "        print(f\"Epoch {epc + 1}\\tFull loss: {full_loss[-1]}\\trecon loss: {recon[-1]}\\tkl_divergence: {kld[-1]}\")\n",
    "        \n",
    "    return model, full_loss, kld, recon \n",
    "\n",
    "\n",
    "\n"
   ]
  },
  {
   "cell_type": "code",
   "execution_count": 140,
   "metadata": {
    "execution": {
     "iopub.execute_input": "2021-08-31T17:49:25.824287Z",
     "iopub.status.busy": "2021-08-31T17:49:25.823945Z",
     "iopub.status.idle": "2021-08-31T17:49:25.833423Z",
     "shell.execute_reply": "2021-08-31T17:49:25.832602Z",
     "shell.execute_reply.started": "2021-08-31T17:49:25.824258Z"
    }
   },
   "outputs": [],
   "source": [
    "#Model \n",
    "model = VAE(x.shape[1],HIDDEN,LATENT).to(device)\n",
    "# Optimizer\n",
    "\n",
    "optimizer = Adam(model.parameters(), lr=LR)"
   ]
  },
  {
   "cell_type": "code",
   "execution_count": 141,
   "metadata": {
    "execution": {
     "iopub.execute_input": "2021-08-31T17:49:26.440876Z",
     "iopub.status.busy": "2021-08-31T17:49:26.440524Z"
    }
   },
   "outputs": [
    {
     "name": "stderr",
     "output_type": "stream",
     "text": [
      "100%|█████████████████████████████████████████████████████████████████████████████████████████████| 390/390 [00:02<00:00, 172.46it/s]\n"
     ]
    },
    {
     "name": "stdout",
     "output_type": "stream",
     "text": [
      "Epoch 1\tFull loss: 0.045368593008233565\trecon loss: 0.001119242728693793\tkl_divergence: 0.04424934999671024\n"
     ]
    },
    {
     "name": "stderr",
     "output_type": "stream",
     "text": [
      "100%|█████████████████████████████████████████████████████████████████████████████████████████████| 390/390 [00:02<00:00, 162.31it/s]\n"
     ]
    },
    {
     "name": "stdout",
     "output_type": "stream",
     "text": [
      "Epoch 2\tFull loss: 0.004486079127169572\trecon loss: 0.0008266218603612521\tkl_divergence: 0.0036594572662113187\n"
     ]
    },
    {
     "name": "stderr",
     "output_type": "stream",
     "text": [
      "100%|█████████████████████████████████████████████████████████████████████████████████████████████| 390/390 [00:02<00:00, 151.80it/s]\n"
     ]
    },
    {
     "name": "stdout",
     "output_type": "stream",
     "text": [
      "Epoch 3\tFull loss: 0.003407864494679066\trecon loss: 0.000753208277717185\tkl_divergence: 0.0026546562183051344\n"
     ]
    },
    {
     "name": "stderr",
     "output_type": "stream",
     "text": [
      "100%|█████████████████████████████████████████████████████████████████████████████████████████████| 390/390 [00:02<00:00, 160.37it/s]\n"
     ]
    },
    {
     "name": "stdout",
     "output_type": "stream",
     "text": [
      "Epoch 4\tFull loss: 0.002800365435317732\trecon loss: 0.0007008549194627752\tkl_divergence: 0.002099510513019199\n"
     ]
    },
    {
     "name": "stderr",
     "output_type": "stream",
     "text": [
      "100%|█████████████████████████████████████████████████████████████████████████████████████████████| 390/390 [00:02<00:00, 158.90it/s]\n"
     ]
    },
    {
     "name": "stdout",
     "output_type": "stream",
     "text": [
      "Epoch 5\tFull loss: 0.0023397772026678117\trecon loss: 0.0006471120141960012\tkl_divergence: 0.0016926651871285569\n"
     ]
    },
    {
     "name": "stderr",
     "output_type": "stream",
     "text": [
      "100%|█████████████████████████████████████████████████████████████████████████████████████████████| 390/390 [00:02<00:00, 157.71it/s]\n"
     ]
    },
    {
     "name": "stdout",
     "output_type": "stream",
     "text": [
      "Epoch 6\tFull loss: 0.001874075989680699\trecon loss: 0.0005944090629689013\tkl_divergence: 0.0012796669299953067\n"
     ]
    },
    {
     "name": "stderr",
     "output_type": "stream",
     "text": [
      "100%|█████████████████████████████████████████████████████████████████████████████████████████████| 390/390 [00:02<00:00, 165.52it/s]\n"
     ]
    },
    {
     "name": "stdout",
     "output_type": "stream",
     "text": [
      "Epoch 7\tFull loss: 0.0015164391964506835\trecon loss: 0.0005485160333008911\tkl_divergence: 0.0009679231631497924\n"
     ]
    },
    {
     "name": "stderr",
     "output_type": "stream",
     "text": [
      "100%|█████████████████████████████████████████████████████████████████████████████████████████████| 390/390 [00:02<00:00, 164.24it/s]\n"
     ]
    },
    {
     "name": "stdout",
     "output_type": "stream",
     "text": [
      "Epoch 8\tFull loss: 0.0011198645920301668\trecon loss: 0.0005050526860987959\tkl_divergence: 0.0006148119092148801\n"
     ]
    },
    {
     "name": "stderr",
     "output_type": "stream",
     "text": [
      "100%|█████████████████████████████████████████████████████████████████████████████████████████████| 390/390 [00:02<00:00, 161.08it/s]\n"
     ]
    },
    {
     "name": "stdout",
     "output_type": "stream",
     "text": [
      "Epoch 9\tFull loss: 0.0009048833968476034\trecon loss: 0.00047608730868281177\tkl_divergence: 0.00042879608831404207\n"
     ]
    },
    {
     "name": "stderr",
     "output_type": "stream",
     "text": [
      "100%|█████████████████████████████████████████████████████████████████████████████████████████████| 390/390 [00:02<00:00, 151.66it/s]\n"
     ]
    },
    {
     "name": "stdout",
     "output_type": "stream",
     "text": [
      "Epoch 10\tFull loss: 0.000691988920339216\trecon loss: 0.00043602066110067357\tkl_divergence: 0.0002559682602273264\n"
     ]
    },
    {
     "name": "stderr",
     "output_type": "stream",
     "text": [
      "100%|█████████████████████████████████████████████████████████████████████████████████████████████| 390/390 [00:02<00:00, 144.29it/s]\n"
     ]
    },
    {
     "name": "stdout",
     "output_type": "stream",
     "text": [
      "Epoch 11\tFull loss: 0.0005867970161116085\trecon loss: 0.00041459079045288934\tkl_divergence: 0.00017220622670347205\n"
     ]
    },
    {
     "name": "stderr",
     "output_type": "stream",
     "text": [
      "100%|█████████████████████████████████████████████████████████████████████████████████████████████| 390/390 [00:02<00:00, 172.60it/s]\n"
     ]
    },
    {
     "name": "stdout",
     "output_type": "stream",
     "text": [
      "Epoch 12\tFull loss: 0.0005019950283428606\trecon loss: 0.0003909633292679269\tkl_divergence: 0.00011103169834733798\n"
     ]
    },
    {
     "name": "stderr",
     "output_type": "stream",
     "text": [
      "100%|█████████████████████████████████████████████████████████████████████████████████████████████| 390/390 [00:02<00:00, 171.63it/s]\n"
     ]
    },
    {
     "name": "stdout",
     "output_type": "stream",
     "text": [
      "Epoch 13\tFull loss: 0.0004605776775861159\trecon loss: 0.00037015270059689495\tkl_divergence: 9.042497624296886e-05\n"
     ]
    },
    {
     "name": "stderr",
     "output_type": "stream",
     "text": [
      "100%|█████████████████████████████████████████████████████████████████████████████████████████████| 390/390 [00:02<00:00, 164.61it/s]\n"
     ]
    },
    {
     "name": "stdout",
     "output_type": "stream",
     "text": [
      "Epoch 14\tFull loss: 0.000422620703615487\trecon loss: 0.0003482674584329988\tkl_divergence: 7.435324546233274e-05\n"
     ]
    },
    {
     "name": "stderr",
     "output_type": "stream",
     "text": [
      "100%|█████████████████████████████████████████████████████████████████████████████████████████████| 390/390 [00:02<00:00, 165.88it/s]\n"
     ]
    },
    {
     "name": "stdout",
     "output_type": "stream",
     "text": [
      "Epoch 15\tFull loss: 0.0003987378087820103\trecon loss: 0.0003338256530696526\tkl_divergence: 6.49121556190762e-05\n"
     ]
    },
    {
     "name": "stderr",
     "output_type": "stream",
     "text": [
      "100%|█████████████████████████████████████████████████████████████████████████████████████████████| 390/390 [00:02<00:00, 164.23it/s]\n"
     ]
    },
    {
     "name": "stdout",
     "output_type": "stream",
     "text": [
      "Epoch 16\tFull loss: 0.00037359517293038947\trecon loss: 0.0003182420120514834\tkl_divergence: 5.535316087890607e-05\n"
     ]
    },
    {
     "name": "stderr",
     "output_type": "stream",
     "text": [
      "100%|█████████████████████████████████████████████████████████████████████████████████████████████| 390/390 [00:02<00:00, 172.56it/s]\n"
     ]
    },
    {
     "name": "stdout",
     "output_type": "stream",
     "text": [
      "Epoch 17\tFull loss: 0.0003406940722085822\trecon loss: 0.0002956909496181955\tkl_divergence: 4.500312262769932e-05\n"
     ]
    },
    {
     "name": "stderr",
     "output_type": "stream",
     "text": [
      "100%|█████████████████████████████████████████████████████████████████████████████████████████████| 390/390 [00:02<00:00, 173.75it/s]\n"
     ]
    },
    {
     "name": "stdout",
     "output_type": "stream",
     "text": [
      "Epoch 18\tFull loss: 0.0003136043089071814\trecon loss: 0.0002746451965485437\tkl_divergence: 3.89591132541402e-05\n"
     ]
    },
    {
     "name": "stderr",
     "output_type": "stream",
     "text": [
      "100%|█████████████████████████████████████████████████████████████████████████████████████████████| 390/390 [00:02<00:00, 174.71it/s]\n"
     ]
    },
    {
     "name": "stdout",
     "output_type": "stream",
     "text": [
      "Epoch 19\tFull loss: 0.00028400415769563273\trecon loss: 0.0002510095168896115\tkl_divergence: 3.299464026498847e-05\n"
     ]
    },
    {
     "name": "stderr",
     "output_type": "stream",
     "text": [
      "100%|█████████████████████████████████████████████████████████████████████████████████████████████| 390/390 [00:02<00:00, 173.35it/s]\n"
     ]
    },
    {
     "name": "stdout",
     "output_type": "stream",
     "text": [
      "Epoch 20\tFull loss: 0.0002596718275946422\trecon loss: 0.00023001386020601226\tkl_divergence: 2.9657968022944166e-05\n"
     ]
    },
    {
     "name": "stderr",
     "output_type": "stream",
     "text": [
      "100%|█████████████████████████████████████████████████████████████████████████████████████████████| 390/390 [00:02<00:00, 170.09it/s]\n"
     ]
    },
    {
     "name": "stdout",
     "output_type": "stream",
     "text": [
      "Epoch 21\tFull loss: 0.0002445057371052173\trecon loss: 0.00021442638378805267\tkl_divergence: 3.0079353018663822e-05\n"
     ]
    },
    {
     "name": "stderr",
     "output_type": "stream",
     "text": [
      "100%|█████████████████████████████████████████████████████████████████████████████████████████████| 390/390 [00:02<00:00, 166.21it/s]\n"
     ]
    },
    {
     "name": "stdout",
     "output_type": "stream",
     "text": [
      "Epoch 22\tFull loss: 0.00022913895693655388\trecon loss: 0.00020069447536325943\tkl_divergence: 2.8444481778513782e-05\n"
     ]
    },
    {
     "name": "stderr",
     "output_type": "stream",
     "text": [
      "100%|█████████████████████████████████████████████████████████████████████████████████████████████| 390/390 [00:02<00:00, 147.04it/s]\n"
     ]
    },
    {
     "name": "stdout",
     "output_type": "stream",
     "text": [
      "Epoch 23\tFull loss: 0.0002171276746174464\trecon loss: 0.00018903907736948428\tkl_divergence: 2.8088596856179768e-05\n"
     ]
    },
    {
     "name": "stderr",
     "output_type": "stream",
     "text": [
      "100%|█████████████████████████████████████████████████████████████████████████████████████████████| 390/390 [00:02<00:00, 168.23it/s]\n"
     ]
    },
    {
     "name": "stdout",
     "output_type": "stream",
     "text": [
      "Epoch 24\tFull loss: 0.0002114820712356446\trecon loss: 0.0001821147130939584\tkl_divergence: 2.9367358160342494e-05\n"
     ]
    },
    {
     "name": "stderr",
     "output_type": "stream",
     "text": [
      "100%|█████████████████████████████████████████████████████████████████████████████████████████████| 390/390 [00:02<00:00, 170.66it/s]\n"
     ]
    },
    {
     "name": "stdout",
     "output_type": "stream",
     "text": [
      "Epoch 25\tFull loss: 0.0002050298925426502\trecon loss: 0.00017447363218077674\tkl_divergence: 3.055626043649868e-05\n"
     ]
    },
    {
     "name": "stderr",
     "output_type": "stream",
     "text": [
      "100%|█████████████████████████████████████████████████████████████████████████████████████████████| 390/390 [00:02<00:00, 164.17it/s]\n"
     ]
    },
    {
     "name": "stdout",
     "output_type": "stream",
     "text": [
      "Epoch 26\tFull loss: 0.00020188309609716853\trecon loss: 0.00016990471922326834\tkl_divergence: 3.19783768365876e-05\n"
     ]
    },
    {
     "name": "stderr",
     "output_type": "stream",
     "text": [
      "100%|█████████████████████████████████████████████████████████████████████████████████████████████| 390/390 [00:02<00:00, 168.89it/s]\n"
     ]
    },
    {
     "name": "stdout",
     "output_type": "stream",
     "text": [
      "Epoch 27\tFull loss: 0.00019918194395872072\trecon loss: 0.0001659867007476397\tkl_divergence: 3.319524330436252e-05\n"
     ]
    },
    {
     "name": "stderr",
     "output_type": "stream",
     "text": [
      "100%|█████████████████████████████████████████████████████████████████████████████████████████████| 390/390 [00:02<00:00, 168.74it/s]\n"
     ]
    },
    {
     "name": "stdout",
     "output_type": "stream",
     "text": [
      "Epoch 28\tFull loss: 0.00019536629790822282\trecon loss: 0.0001616329567742725\tkl_divergence: 3.373334132051334e-05\n"
     ]
    },
    {
     "name": "stderr",
     "output_type": "stream",
     "text": [
      "100%|█████████████████████████████████████████████████████████████████████████████████████████████| 390/390 [00:02<00:00, 164.41it/s]\n"
     ]
    },
    {
     "name": "stdout",
     "output_type": "stream",
     "text": [
      "Epoch 29\tFull loss: 0.00019213376739898172\trecon loss: 0.00015784413083635556\tkl_divergence: 3.428963671187655e-05\n"
     ]
    },
    {
     "name": "stderr",
     "output_type": "stream",
     "text": [
      "100%|█████████████████████████████████████████████████████████████████████████████████████████████| 390/390 [00:02<00:00, 158.56it/s]\n"
     ]
    },
    {
     "name": "stdout",
     "output_type": "stream",
     "text": [
      "Epoch 30\tFull loss: 0.0001898504412309147\trecon loss: 0.00015494294982487097\tkl_divergence: 3.4907491573950466e-05\n"
     ]
    },
    {
     "name": "stderr",
     "output_type": "stream",
     "text": [
      "100%|█████████████████████████████████████████████████████████████████████████████████████████████| 390/390 [00:02<00:00, 176.37it/s]\n"
     ]
    },
    {
     "name": "stdout",
     "output_type": "stream",
     "text": [
      "Epoch 31\tFull loss: 0.00018408874472161421\trecon loss: 0.00015049090068667935\tkl_divergence: 3.359784371777772e-05\n"
     ]
    },
    {
     "name": "stderr",
     "output_type": "stream",
     "text": [
      "100%|█████████████████████████████████████████████████████████████████████████████████████████████| 390/390 [00:02<00:00, 161.48it/s]\n"
     ]
    },
    {
     "name": "stdout",
     "output_type": "stream",
     "text": [
      "Epoch 32\tFull loss: 0.00017958994602593475\trecon loss: 0.00014672504573051508\tkl_divergence: 3.2864900332732266e-05\n"
     ]
    },
    {
     "name": "stderr",
     "output_type": "stream",
     "text": [
      "100%|█████████████████████████████████████████████████████████████████████████████████████████████| 390/390 [00:02<00:00, 166.33it/s]\n"
     ]
    },
    {
     "name": "stdout",
     "output_type": "stream",
     "text": [
      "Epoch 33\tFull loss: 0.0001740049953253056\trecon loss: 0.00014256655638933015\tkl_divergence: 3.143843884269397e-05\n"
     ]
    },
    {
     "name": "stderr",
     "output_type": "stream",
     "text": [
      "100%|█████████████████████████████████████████████████████████████████████████████████████████████| 390/390 [00:02<00:00, 164.48it/s]\n"
     ]
    },
    {
     "name": "stdout",
     "output_type": "stream",
     "text": [
      "Epoch 34\tFull loss: 0.00017034048621262162\trecon loss: 0.0001398872775145066\tkl_divergence: 3.0453208306332667e-05\n"
     ]
    },
    {
     "name": "stderr",
     "output_type": "stream",
     "text": [
      "100%|█████████████████████████████████████████████████████████████████████████████████████████████| 390/390 [00:02<00:00, 169.98it/s]\n"
     ]
    },
    {
     "name": "stdout",
     "output_type": "stream",
     "text": [
      "Epoch 35\tFull loss: 0.00016612428843449707\trecon loss: 0.0001368967806532358\tkl_divergence: 2.922750761335453e-05\n"
     ]
    },
    {
     "name": "stderr",
     "output_type": "stream",
     "text": [
      "100%|█████████████████████████████████████████████████████████████████████████████████████████████| 390/390 [00:02<00:00, 163.82it/s]\n"
     ]
    },
    {
     "name": "stdout",
     "output_type": "stream",
     "text": [
      "Epoch 36\tFull loss: 0.0001627013666364245\trecon loss: 0.00013446404101649442\tkl_divergence: 2.823732565724267e-05\n"
     ]
    },
    {
     "name": "stderr",
     "output_type": "stream",
     "text": [
      "100%|█████████████████████████████████████████████████████████████████████████████████████████████| 390/390 [00:02<00:00, 160.40it/s]\n"
     ]
    },
    {
     "name": "stdout",
     "output_type": "stream",
     "text": [
      "Epoch 37\tFull loss: 0.00015749871560658972\trecon loss: 0.0001307049699579903\tkl_divergence: 2.6793745741880953e-05\n"
     ]
    },
    {
     "name": "stderr",
     "output_type": "stream",
     "text": [
      "100%|█████████████████████████████████████████████████████████████████████████████████████████████| 390/390 [00:02<00:00, 165.17it/s]\n"
     ]
    },
    {
     "name": "stdout",
     "output_type": "stream",
     "text": [
      "Epoch 38\tFull loss: 0.00015307429428689946\trecon loss: 0.00012761820829697312\tkl_divergence: 2.5456085691425518e-05\n"
     ]
    },
    {
     "name": "stderr",
     "output_type": "stream",
     "text": [
      "100%|█████████████████████████████████████████████████████████████████████████████████████████████| 390/390 [00:02<00:00, 170.26it/s]\n"
     ]
    },
    {
     "name": "stdout",
     "output_type": "stream",
     "text": [
      "Epoch 39\tFull loss: 0.00015194411158191566\trecon loss: 0.00012687305650802163\tkl_divergence: 2.5071055596270478e-05\n"
     ]
    },
    {
     "name": "stderr",
     "output_type": "stream",
     "text": [
      "100%|█████████████████████████████████████████████████████████████████████████████████████████████| 390/390 [00:02<00:00, 159.12it/s]\n"
     ]
    },
    {
     "name": "stdout",
     "output_type": "stream",
     "text": [
      "Epoch 40\tFull loss: 0.00014590236465804852\trecon loss: 0.00012210850745293265\tkl_divergence: 2.379385698124026e-05\n"
     ]
    },
    {
     "name": "stderr",
     "output_type": "stream",
     "text": [
      "100%|█████████████████████████████████████████████████████████████████████████████████████████████| 390/390 [00:02<00:00, 165.37it/s]\n"
     ]
    },
    {
     "name": "stdout",
     "output_type": "stream",
     "text": [
      "Epoch 41\tFull loss: 0.00014591084099941864\trecon loss: 0.0001228202291456863\tkl_divergence: 2.309061194701383e-05\n"
     ]
    },
    {
     "name": "stderr",
     "output_type": "stream",
     "text": [
      "100%|█████████████████████████████████████████████████████████████████████████████████████████████| 390/390 [00:02<00:00, 156.03it/s]\n"
     ]
    },
    {
     "name": "stdout",
     "output_type": "stream",
     "text": [
      "Epoch 42\tFull loss: 0.0001406687496152396\trecon loss: 0.00011854568688133254\tkl_divergence: 2.212306280853227e-05\n"
     ]
    },
    {
     "name": "stderr",
     "output_type": "stream",
     "text": [
      "100%|█████████████████████████████████████████████████████████████████████████████████████████████| 390/390 [00:02<00:00, 152.83it/s]\n"
     ]
    },
    {
     "name": "stdout",
     "output_type": "stream",
     "text": [
      "Epoch 43\tFull loss: 0.00013890446869668384\trecon loss: 0.00011735518538700537\tkl_divergence: 2.154928345892889e-05\n"
     ]
    },
    {
     "name": "stderr",
     "output_type": "stream",
     "text": [
      "100%|█████████████████████████████████████████████████████████████████████████████████████████████| 390/390 [00:02<00:00, 160.73it/s]\n"
     ]
    },
    {
     "name": "stdout",
     "output_type": "stream",
     "text": [
      "Epoch 44\tFull loss: 0.0001353562969411425\trecon loss: 0.00011439508286854013\tkl_divergence: 2.096121341963179e-05\n"
     ]
    },
    {
     "name": "stderr",
     "output_type": "stream",
     "text": [
      "100%|█████████████████████████████████████████████████████████████████████████████████████████████| 390/390 [00:02<00:00, 149.38it/s]\n"
     ]
    },
    {
     "name": "stdout",
     "output_type": "stream",
     "text": [
      "Epoch 45\tFull loss: 0.00013586194806684476\trecon loss: 0.00011488859068217257\tkl_divergence: 2.0973357254078087e-05\n"
     ]
    },
    {
     "name": "stderr",
     "output_type": "stream",
     "text": [
      "100%|█████████████████████████████████████████████████████████████████████████████████████████████| 390/390 [00:02<00:00, 157.13it/s]\n"
     ]
    },
    {
     "name": "stdout",
     "output_type": "stream",
     "text": [
      "Epoch 46\tFull loss: 0.00012979874826179674\trecon loss: 0.00010998174994034717\tkl_divergence: 1.9816998209511765e-05\n"
     ]
    },
    {
     "name": "stderr",
     "output_type": "stream",
     "text": [
      "100%|█████████████████████████████████████████████████████████████████████████████████████████████| 390/390 [00:02<00:00, 162.83it/s]\n"
     ]
    },
    {
     "name": "stdout",
     "output_type": "stream",
     "text": [
      "Epoch 47\tFull loss: 0.00012840277055287377\trecon loss: 0.0001087676182438512\tkl_divergence: 1.963515212245954e-05\n"
     ]
    },
    {
     "name": "stderr",
     "output_type": "stream",
     "text": [
      "100%|█████████████████████████████████████████████████████████████████████████████████████████████| 390/390 [00:02<00:00, 165.40it/s]\n"
     ]
    },
    {
     "name": "stdout",
     "output_type": "stream",
     "text": [
      "Epoch 48\tFull loss: 0.00012885901438167843\trecon loss: 0.00010956437270998811\tkl_divergence: 1.9294641391845802e-05\n"
     ]
    },
    {
     "name": "stderr",
     "output_type": "stream",
     "text": [
      "100%|█████████████████████████████████████████████████████████████████████████████████████████████| 390/390 [00:02<00:00, 164.62it/s]\n"
     ]
    },
    {
     "name": "stdout",
     "output_type": "stream",
     "text": [
      "Epoch 49\tFull loss: 0.00012798096420458304\trecon loss: 0.00010863879858963908\tkl_divergence: 1.9342165391068332e-05\n"
     ]
    },
    {
     "name": "stderr",
     "output_type": "stream",
     "text": [
      "100%|█████████████████████████████████████████████████████████████████████████████████████████████| 390/390 [00:02<00:00, 167.03it/s]"
     ]
    },
    {
     "name": "stdout",
     "output_type": "stream",
     "text": [
      "Epoch 50\tFull loss: 0.00012855381363083442\trecon loss: 0.00010911406580140838\tkl_divergence: 1.9439748202552064e-05\n"
     ]
    },
    {
     "name": "stderr",
     "output_type": "stream",
     "text": [
      "\n"
     ]
    }
   ],
   "source": [
    "(model, full_loss, kld, recon) = AEVB(data=x,\n",
    "                                      model=model,\n",
    "                                      optimizer=optimizer,\n",
    "                                      input_dim=x.shape[1],\n",
    "                                      output_dim=x.shape[1],\n",
    "                                      batch_size=BATCH_SIZE,\n",
    "                                      epochs=EPOCHS)"
   ]
  },
  {
   "cell_type": "code",
   "execution_count": 142,
   "metadata": {},
   "outputs": [
    {
     "data": {
      "text/plain": [
       "[<matplotlib.lines.Line2D at 0x7f157e18f8b0>]"
      ]
     },
     "execution_count": 142,
     "metadata": {},
     "output_type": "execute_result"
    },
    {
     "data": {
      "image/png": "[encoded data removed]",
      "text/plain": [
       "<Figure size 432x288 with 1 Axes>"
      ]
     },
     "metadata": {
      "needs_background": "light"
     },
     "output_type": "display_data"
    }
   ],
   "source": [
    "%matplotlib inline\n",
    "\n",
    "plt.plot([i for i in range(len(full_loss))], full_loss)"
   ]
  },
  {
   "cell_type": "code",
   "execution_count": 155,
   "metadata": {},
   "outputs": [],
   "source": [
    "def visualization(x):\n",
    "    kx = get_minibatch(x,25,device)\n",
    "    kx = add_noise(kx, std=1, device=device)\n",
    "    gen = model.generate(kx).cpu().detach().numpy()\n",
    "    kx = kx.cpu().detach().numpy()\n",
    "    \n",
    "\n",
    "    fig, ax = plt.subplots(5,5)\n",
    "    for i in range(1,6):\n",
    "        for j in range(1,6):\n",
    "            ax[i-1,j-1].axis(\"off\")\n",
    "            tmp = kx[i*j - 1]\n",
    "            tmp = tmp.reshape(28,28)\n",
    "            ax[i - 1,j - 1].imshow(tmp,cmap=\"gray\")\n",
    "    \n",
    "    \n",
    "    \n",
    "    \n",
    "    fig2, ax2 = plt.subplots(5,5)\n",
    "    for i in range(1,6):\n",
    "        for j in range(1,6):\n",
    "            ax2[i-1,j-1].axis(\"off\")\n",
    "            tmp = gen[i*j - 1]\n",
    "            tmp = tmp.reshape(28,28)\n",
    "            ax2[i - 1,j - 1].imshow(tmp,cmap=\"gray\")\n",
    "    fig.show()\n",
    "    fig2.show()"
   ]
  },
  {
   "cell_type": "code",
   "execution_count": 157,
   "metadata": {},
   "outputs": [
    {
     "ename": "TypeError",
     "evalue": "linear(): argument 'input' (position 1) must be Tensor, not numpy.ndarray",
     "output_type": "error",
     "traceback": [
      "\u001b[0;31m---------------------------------------------------------------------------\u001b[0m",
      "\u001b[0;31mTypeError\u001b[0m                                 Traceback (most recent call last)",
      "\u001b[0;32m/tmp/ipykernel_85768/2047874592.py\u001b[0m in \u001b[0;36m<module>\u001b[0;34m\u001b[0m\n\u001b[0;32m----> 1\u001b[0;31m \u001b[0mvisualization\u001b[0m\u001b[0;34m(\u001b[0m\u001b[0mx\u001b[0m\u001b[0;34m)\u001b[0m\u001b[0;34m\u001b[0m\u001b[0;34m\u001b[0m\u001b[0m\n\u001b[0m",
      "\u001b[0;32m/tmp/ipykernel_85768/4260028307.py\u001b[0m in \u001b[0;36mvisualization\u001b[0;34m(x)\u001b[0m\n\u001b[1;32m      7\u001b[0m     \u001b[0mkx\u001b[0m \u001b[0;34m=\u001b[0m \u001b[0mkx\u001b[0m\u001b[0;34m.\u001b[0m\u001b[0mcpu\u001b[0m\u001b[0;34m(\u001b[0m\u001b[0;34m)\u001b[0m\u001b[0;34m.\u001b[0m\u001b[0mdetach\u001b[0m\u001b[0;34m(\u001b[0m\u001b[0;34m)\u001b[0m\u001b[0;34m.\u001b[0m\u001b[0mnumpy\u001b[0m\u001b[0;34m(\u001b[0m\u001b[0;34m)\u001b[0m\u001b[0;34m\u001b[0m\u001b[0;34m\u001b[0m\u001b[0m\n\u001b[1;32m      8\u001b[0m \u001b[0;34m\u001b[0m\u001b[0m\n\u001b[0;32m----> 9\u001b[0;31m     \u001b[0mgen2\u001b[0m \u001b[0;34m=\u001b[0m \u001b[0mmodel\u001b[0m\u001b[0;34m.\u001b[0m\u001b[0mgenerate\u001b[0m\u001b[0;34m(\u001b[0m\u001b[0mgen\u001b[0m\u001b[0;34m)\u001b[0m\u001b[0;34m.\u001b[0m\u001b[0mcpu\u001b[0m\u001b[0;34m(\u001b[0m\u001b[0;34m)\u001b[0m\u001b[0;34m.\u001b[0m\u001b[0mdetach\u001b[0m\u001b[0;34m(\u001b[0m\u001b[0;34m)\u001b[0m\u001b[0;34m.\u001b[0m\u001b[0mnumpy\u001b[0m\u001b[0;34m(\u001b[0m\u001b[0;34m)\u001b[0m\u001b[0;34m\u001b[0m\u001b[0;34m\u001b[0m\u001b[0m\n\u001b[0m\u001b[1;32m     10\u001b[0m \u001b[0;34m\u001b[0m\u001b[0m\n\u001b[1;32m     11\u001b[0m     \u001b[0mfig\u001b[0m\u001b[0;34m,\u001b[0m \u001b[0max\u001b[0m \u001b[0;34m=\u001b[0m \u001b[0mplt\u001b[0m\u001b[0;34m.\u001b[0m\u001b[0msubplots\u001b[0m\u001b[0;34m(\u001b[0m\u001b[0;36m5\u001b[0m\u001b[0;34m,\u001b[0m\u001b[0;36m5\u001b[0m\u001b[0;34m)\u001b[0m\u001b[0;34m\u001b[0m\u001b[0;34m\u001b[0m\u001b[0m\n",
      "\u001b[0;32m/tmp/ipykernel_85768/4177353966.py\u001b[0m in \u001b[0;36mgenerate\u001b[0;34m(self, x)\u001b[0m\n\u001b[1;32m     64\u001b[0m \u001b[0;34m\u001b[0m\u001b[0m\n\u001b[1;32m     65\u001b[0m     \u001b[0;32mdef\u001b[0m \u001b[0mgenerate\u001b[0m\u001b[0;34m(\u001b[0m\u001b[0mself\u001b[0m\u001b[0;34m,\u001b[0m\u001b[0mx\u001b[0m\u001b[0;34m)\u001b[0m\u001b[0;34m:\u001b[0m\u001b[0;34m\u001b[0m\u001b[0;34m\u001b[0m\u001b[0m\n\u001b[0;32m---> 66\u001b[0;31m         \u001b[0;32mreturn\u001b[0m \u001b[0mself\u001b[0m\u001b[0;34m.\u001b[0m\u001b[0mforward\u001b[0m\u001b[0;34m(\u001b[0m\u001b[0mx\u001b[0m\u001b[0;34m)\u001b[0m\u001b[0;34m[\u001b[0m\u001b[0;36m0\u001b[0m\u001b[0;34m]\u001b[0m\u001b[0;34m\u001b[0m\u001b[0;34m\u001b[0m\u001b[0m\n\u001b[0m",
      "\u001b[0;32m/tmp/ipykernel_85768/4177353966.py\u001b[0m in \u001b[0;36mforward\u001b[0;34m(self, x)\u001b[0m\n\u001b[1;32m     45\u001b[0m         \u001b[0;32mreturn\u001b[0m \u001b[0mmu\u001b[0m \u001b[0;34m+\u001b[0m \u001b[0mlog_var\u001b[0m \u001b[0;34m*\u001b[0m \u001b[0mepsilon\u001b[0m\u001b[0;34m\u001b[0m\u001b[0;34m\u001b[0m\u001b[0m\n\u001b[1;32m     46\u001b[0m     \u001b[0;32mdef\u001b[0m \u001b[0mforward\u001b[0m\u001b[0;34m(\u001b[0m\u001b[0mself\u001b[0m\u001b[0;34m,\u001b[0m\u001b[0mx\u001b[0m\u001b[0;34m)\u001b[0m\u001b[0;34m:\u001b[0m\u001b[0;34m\u001b[0m\u001b[0;34m\u001b[0m\u001b[0m\n\u001b[0;32m---> 47\u001b[0;31m         \u001b[0mmu\u001b[0m\u001b[0;34m,\u001b[0m \u001b[0mlog_var\u001b[0m \u001b[0;34m=\u001b[0m \u001b[0mself\u001b[0m\u001b[0;34m.\u001b[0m\u001b[0mencode\u001b[0m\u001b[0;34m(\u001b[0m\u001b[0mx\u001b[0m\u001b[0;34m)\u001b[0m\u001b[0;34m\u001b[0m\u001b[0;34m\u001b[0m\u001b[0m\n\u001b[0m\u001b[1;32m     48\u001b[0m         \u001b[0mnorm\u001b[0m \u001b[0;34m=\u001b[0m \u001b[0mself\u001b[0m\u001b[0;34m.\u001b[0m\u001b[0mreparameterize\u001b[0m\u001b[0;34m(\u001b[0m\u001b[0mmu\u001b[0m\u001b[0;34m,\u001b[0m\u001b[0mlog_var\u001b[0m\u001b[0;34m)\u001b[0m\u001b[0;34m\u001b[0m\u001b[0;34m\u001b[0m\u001b[0m\n\u001b[1;32m     49\u001b[0m         \u001b[0mres\u001b[0m \u001b[0;34m=\u001b[0m \u001b[0mself\u001b[0m\u001b[0;34m.\u001b[0m\u001b[0mdecode\u001b[0m\u001b[0;34m(\u001b[0m\u001b[0mnorm\u001b[0m\u001b[0;34m)\u001b[0m\u001b[0;34m\u001b[0m\u001b[0;34m\u001b[0m\u001b[0m\n",
      "\u001b[0;32m/tmp/ipykernel_85768/4177353966.py\u001b[0m in \u001b[0;36mencode\u001b[0;34m(self, x)\u001b[0m\n\u001b[1;32m     31\u001b[0m     \u001b[0;32mdef\u001b[0m \u001b[0mencode\u001b[0m\u001b[0;34m(\u001b[0m\u001b[0mself\u001b[0m\u001b[0;34m,\u001b[0m\u001b[0mx\u001b[0m\u001b[0;34m)\u001b[0m\u001b[0;34m:\u001b[0m\u001b[0;34m\u001b[0m\u001b[0;34m\u001b[0m\u001b[0m\n\u001b[1;32m     32\u001b[0m         \u001b[0;31m#x = torch.flatten(x)\u001b[0m\u001b[0;34m\u001b[0m\u001b[0;34m\u001b[0m\u001b[0;34m\u001b[0m\u001b[0m\n\u001b[0;32m---> 33\u001b[0;31m         \u001b[0mres\u001b[0m \u001b[0;34m=\u001b[0m \u001b[0mself\u001b[0m\u001b[0;34m.\u001b[0m\u001b[0men\u001b[0m\u001b[0;34m(\u001b[0m\u001b[0mx\u001b[0m\u001b[0;34m)\u001b[0m\u001b[0;34m\u001b[0m\u001b[0;34m\u001b[0m\u001b[0m\n\u001b[0m\u001b[1;32m     34\u001b[0m         \u001b[0mmu\u001b[0m \u001b[0;34m=\u001b[0m \u001b[0mself\u001b[0m\u001b[0;34m.\u001b[0m\u001b[0mmu\u001b[0m\u001b[0;34m(\u001b[0m\u001b[0mres\u001b[0m\u001b[0;34m)\u001b[0m\u001b[0;34m\u001b[0m\u001b[0;34m\u001b[0m\u001b[0m\n\u001b[1;32m     35\u001b[0m         \u001b[0mlog_var\u001b[0m \u001b[0;34m=\u001b[0m \u001b[0mself\u001b[0m\u001b[0;34m.\u001b[0m\u001b[0mvar\u001b[0m\u001b[0;34m(\u001b[0m\u001b[0mres\u001b[0m\u001b[0;34m)\u001b[0m\u001b[0;34m\u001b[0m\u001b[0;34m\u001b[0m\u001b[0m\n",
      "\u001b[0;32m~/.local/lib/python3.9/site-packages/torch/nn/modules/module.py\u001b[0m in \u001b[0;36m_call_impl\u001b[0;34m(self, *input, **kwargs)\u001b[0m\n\u001b[1;32m   1049\u001b[0m         if not (self._backward_hooks or self._forward_hooks or self._forward_pre_hooks or _global_backward_hooks\n\u001b[1;32m   1050\u001b[0m                 or _global_forward_hooks or _global_forward_pre_hooks):\n\u001b[0;32m-> 1051\u001b[0;31m             \u001b[0;32mreturn\u001b[0m \u001b[0mforward_call\u001b[0m\u001b[0;34m(\u001b[0m\u001b[0;34m*\u001b[0m\u001b[0minput\u001b[0m\u001b[0;34m,\u001b[0m \u001b[0;34m**\u001b[0m\u001b[0mkwargs\u001b[0m\u001b[0;34m)\u001b[0m\u001b[0;34m\u001b[0m\u001b[0;34m\u001b[0m\u001b[0m\n\u001b[0m\u001b[1;32m   1052\u001b[0m         \u001b[0;31m# Do not call functions when jit is used\u001b[0m\u001b[0;34m\u001b[0m\u001b[0;34m\u001b[0m\u001b[0;34m\u001b[0m\u001b[0m\n\u001b[1;32m   1053\u001b[0m         \u001b[0mfull_backward_hooks\u001b[0m\u001b[0;34m,\u001b[0m \u001b[0mnon_full_backward_hooks\u001b[0m \u001b[0;34m=\u001b[0m \u001b[0;34m[\u001b[0m\u001b[0;34m]\u001b[0m\u001b[0;34m,\u001b[0m \u001b[0;34m[\u001b[0m\u001b[0;34m]\u001b[0m\u001b[0;34m\u001b[0m\u001b[0;34m\u001b[0m\u001b[0m\n",
      "\u001b[0;32m~/.local/lib/python3.9/site-packages/torch/nn/modules/container.py\u001b[0m in \u001b[0;36mforward\u001b[0;34m(self, input)\u001b[0m\n\u001b[1;32m    137\u001b[0m     \u001b[0;32mdef\u001b[0m \u001b[0mforward\u001b[0m\u001b[0;34m(\u001b[0m\u001b[0mself\u001b[0m\u001b[0;34m,\u001b[0m \u001b[0minput\u001b[0m\u001b[0;34m)\u001b[0m\u001b[0;34m:\u001b[0m\u001b[0;34m\u001b[0m\u001b[0;34m\u001b[0m\u001b[0m\n\u001b[1;32m    138\u001b[0m         \u001b[0;32mfor\u001b[0m \u001b[0mmodule\u001b[0m \u001b[0;32min\u001b[0m \u001b[0mself\u001b[0m\u001b[0;34m:\u001b[0m\u001b[0;34m\u001b[0m\u001b[0;34m\u001b[0m\u001b[0m\n\u001b[0;32m--> 139\u001b[0;31m             \u001b[0minput\u001b[0m \u001b[0;34m=\u001b[0m \u001b[0mmodule\u001b[0m\u001b[0;34m(\u001b[0m\u001b[0minput\u001b[0m\u001b[0;34m)\u001b[0m\u001b[0;34m\u001b[0m\u001b[0;34m\u001b[0m\u001b[0m\n\u001b[0m\u001b[1;32m    140\u001b[0m         \u001b[0;32mreturn\u001b[0m \u001b[0minput\u001b[0m\u001b[0;34m\u001b[0m\u001b[0;34m\u001b[0m\u001b[0m\n\u001b[1;32m    141\u001b[0m \u001b[0;34m\u001b[0m\u001b[0m\n",
      "\u001b[0;32m~/.local/lib/python3.9/site-packages/torch/nn/modules/module.py\u001b[0m in \u001b[0;36m_call_impl\u001b[0;34m(self, *input, **kwargs)\u001b[0m\n\u001b[1;32m   1049\u001b[0m         if not (self._backward_hooks or self._forward_hooks or self._forward_pre_hooks or _global_backward_hooks\n\u001b[1;32m   1050\u001b[0m                 or _global_forward_hooks or _global_forward_pre_hooks):\n\u001b[0;32m-> 1051\u001b[0;31m             \u001b[0;32mreturn\u001b[0m \u001b[0mforward_call\u001b[0m\u001b[0;34m(\u001b[0m\u001b[0;34m*\u001b[0m\u001b[0minput\u001b[0m\u001b[0;34m,\u001b[0m \u001b[0;34m**\u001b[0m\u001b[0mkwargs\u001b[0m\u001b[0;34m)\u001b[0m\u001b[0;34m\u001b[0m\u001b[0;34m\u001b[0m\u001b[0m\n\u001b[0m\u001b[1;32m   1052\u001b[0m         \u001b[0;31m# Do not call functions when jit is used\u001b[0m\u001b[0;34m\u001b[0m\u001b[0;34m\u001b[0m\u001b[0;34m\u001b[0m\u001b[0m\n\u001b[1;32m   1053\u001b[0m         \u001b[0mfull_backward_hooks\u001b[0m\u001b[0;34m,\u001b[0m \u001b[0mnon_full_backward_hooks\u001b[0m \u001b[0;34m=\u001b[0m \u001b[0;34m[\u001b[0m\u001b[0;34m]\u001b[0m\u001b[0;34m,\u001b[0m \u001b[0;34m[\u001b[0m\u001b[0;34m]\u001b[0m\u001b[0;34m\u001b[0m\u001b[0;34m\u001b[0m\u001b[0m\n",
      "\u001b[0;32m~/.local/lib/python3.9/site-packages/torch/nn/modules/linear.py\u001b[0m in \u001b[0;36mforward\u001b[0;34m(self, input)\u001b[0m\n\u001b[1;32m     94\u001b[0m \u001b[0;34m\u001b[0m\u001b[0m\n\u001b[1;32m     95\u001b[0m     \u001b[0;32mdef\u001b[0m \u001b[0mforward\u001b[0m\u001b[0;34m(\u001b[0m\u001b[0mself\u001b[0m\u001b[0;34m,\u001b[0m \u001b[0minput\u001b[0m\u001b[0;34m:\u001b[0m \u001b[0mTensor\u001b[0m\u001b[0;34m)\u001b[0m \u001b[0;34m->\u001b[0m \u001b[0mTensor\u001b[0m\u001b[0;34m:\u001b[0m\u001b[0;34m\u001b[0m\u001b[0;34m\u001b[0m\u001b[0m\n\u001b[0;32m---> 96\u001b[0;31m         \u001b[0;32mreturn\u001b[0m \u001b[0mF\u001b[0m\u001b[0;34m.\u001b[0m\u001b[0mlinear\u001b[0m\u001b[0;34m(\u001b[0m\u001b[0minput\u001b[0m\u001b[0;34m,\u001b[0m \u001b[0mself\u001b[0m\u001b[0;34m.\u001b[0m\u001b[0mweight\u001b[0m\u001b[0;34m,\u001b[0m \u001b[0mself\u001b[0m\u001b[0;34m.\u001b[0m\u001b[0mbias\u001b[0m\u001b[0;34m)\u001b[0m\u001b[0;34m\u001b[0m\u001b[0;34m\u001b[0m\u001b[0m\n\u001b[0m\u001b[1;32m     97\u001b[0m \u001b[0;34m\u001b[0m\u001b[0m\n\u001b[1;32m     98\u001b[0m     \u001b[0;32mdef\u001b[0m \u001b[0mextra_repr\u001b[0m\u001b[0;34m(\u001b[0m\u001b[0mself\u001b[0m\u001b[0;34m)\u001b[0m \u001b[0;34m->\u001b[0m \u001b[0mstr\u001b[0m\u001b[0;34m:\u001b[0m\u001b[0;34m\u001b[0m\u001b[0;34m\u001b[0m\u001b[0m\n",
      "\u001b[0;32m~/.local/lib/python3.9/site-packages/torch/nn/functional.py\u001b[0m in \u001b[0;36mlinear\u001b[0;34m(input, weight, bias)\u001b[0m\n\u001b[1;32m   1845\u001b[0m     \u001b[0;32mif\u001b[0m \u001b[0mhas_torch_function_variadic\u001b[0m\u001b[0;34m(\u001b[0m\u001b[0minput\u001b[0m\u001b[0;34m,\u001b[0m \u001b[0mweight\u001b[0m\u001b[0;34m)\u001b[0m\u001b[0;34m:\u001b[0m\u001b[0;34m\u001b[0m\u001b[0;34m\u001b[0m\u001b[0m\n\u001b[1;32m   1846\u001b[0m         \u001b[0;32mreturn\u001b[0m \u001b[0mhandle_torch_function\u001b[0m\u001b[0;34m(\u001b[0m\u001b[0mlinear\u001b[0m\u001b[0;34m,\u001b[0m \u001b[0;34m(\u001b[0m\u001b[0minput\u001b[0m\u001b[0;34m,\u001b[0m \u001b[0mweight\u001b[0m\u001b[0;34m)\u001b[0m\u001b[0;34m,\u001b[0m \u001b[0minput\u001b[0m\u001b[0;34m,\u001b[0m \u001b[0mweight\u001b[0m\u001b[0;34m,\u001b[0m \u001b[0mbias\u001b[0m\u001b[0;34m=\u001b[0m\u001b[0mbias\u001b[0m\u001b[0;34m)\u001b[0m\u001b[0;34m\u001b[0m\u001b[0;34m\u001b[0m\u001b[0m\n\u001b[0;32m-> 1847\u001b[0;31m     \u001b[0;32mreturn\u001b[0m \u001b[0mtorch\u001b[0m\u001b[0;34m.\u001b[0m\u001b[0m_C\u001b[0m\u001b[0;34m.\u001b[0m\u001b[0m_nn\u001b[0m\u001b[0;34m.\u001b[0m\u001b[0mlinear\u001b[0m\u001b[0;34m(\u001b[0m\u001b[0minput\u001b[0m\u001b[0;34m,\u001b[0m \u001b[0mweight\u001b[0m\u001b[0;34m,\u001b[0m \u001b[0mbias\u001b[0m\u001b[0;34m)\u001b[0m\u001b[0;34m\u001b[0m\u001b[0;34m\u001b[0m\u001b[0m\n\u001b[0m\u001b[1;32m   1848\u001b[0m \u001b[0;34m\u001b[0m\u001b[0m\n\u001b[1;32m   1849\u001b[0m \u001b[0;34m\u001b[0m\u001b[0m\n",
      "\u001b[0;31mTypeError\u001b[0m: linear(): argument 'input' (position 1) must be Tensor, not numpy.ndarray"
     ]
    }
   ],
   "source": [
    "visualization(x)"
   ]
  },
  {
   "cell_type": "code",
   "execution_count": null,
   "metadata": {},
   "outputs": [],
   "source": []
  },
  {
   "cell_type": "code",
   "execution_count": null,
   "metadata": {},
   "outputs": [],
   "source": []
  },
  {
   "cell_type": "code",
   "execution_count": null,
   "metadata": {},
   "outputs": [],
   "source": []
  }
 ],
 "metadata": {
  "kernelspec": {
   "display_name": "Python 3 (ipykernel)",
   "language": "python",
   "name": "python3"
  },
  "language_info": {
   "codemirror_mode": {
    "name": "ipython",
    "version": 3
   },
   "file_extension": ".py",
   "mimetype": "text/x-python",
   "name": "python",
   "nbconvert_exporter": "python",
   "pygments_lexer": "ipython3",
   "version": "3.9.6"
  }
 },
 "nbformat": 4,
 "nbformat_minor": 4
}
